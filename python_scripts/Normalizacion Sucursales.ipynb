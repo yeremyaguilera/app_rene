{
 "cells": [
  {
   "cell_type": "code",
   "execution_count": 100,
   "metadata": {
    "ExecuteTime": {
     "end_time": "2020-05-29T04:57:26.544222Z",
     "start_time": "2020-05-29T04:57:26.540241Z"
    }
   },
   "outputs": [],
   "source": [
    "from personas_beme.models import MODULOS_NORTE, MODULOS_CENTRO, MODULOS_SUR"
   ]
  },
  {
   "cell_type": "code",
   "execution_count": 101,
   "metadata": {
    "ExecuteTime": {
     "end_time": "2020-05-29T04:57:26.723248Z",
     "start_time": "2020-05-29T04:57:26.720242Z"
    }
   },
   "outputs": [],
   "source": [
    "import pandas as pd\n",
    "from cleaning import *"
   ]
  },
  {
   "cell_type": "code",
   "execution_count": 102,
   "metadata": {
    "ExecuteTime": {
     "end_time": "2020-05-29T04:57:26.927340Z",
     "start_time": "2020-05-29T04:57:26.921336Z"
    }
   },
   "outputs": [],
   "source": [
    "def clean_zona(df):\n",
    "    df[\"zona\"] = df[\"zona\"].str.upper()\n",
    "    df[\"zona\"] = df[\"zona\"].str.replace(\" \", \"_\")\n",
    "    return df"
   ]
  },
  {
   "cell_type": "code",
   "execution_count": 103,
   "metadata": {
    "ExecuteTime": {
     "end_time": "2020-05-29T04:57:27.126342Z",
     "start_time": "2020-05-29T04:57:27.120342Z"
    }
   },
   "outputs": [],
   "source": [
    "def clean_modulo(df):\n",
    "    df[\"modulo\"] = df[\"modulo\"].str.upper()\n",
    "    df[\"modulo\"] = df[\"modulo\"].str.replace(\" \", \"_\")\n",
    "    df[\"modulo\"] = df[\"modulo\"].apply(lambda x: x.replace(\"Ó\", \"O\"))\n",
    "    df[\"modulo\"] = df[\"modulo\"].apply(lambda x: x.replace(\"Í\", \"I\"))\n",
    "    df[\"modulo\"] = df[\"modulo\"].apply(lambda x: x.replace(\"METROP.\", \"METROPOLITANA\"))\n",
    "    df[\"modulo\"] = df[\"modulo\"].apply(lambda x: x.replace(\"VIII_REGION_BIO_BIO_NORTE\", \"BIOBIO_NORTE\"))\n",
    "    df[\"modulo\"] = df[\"modulo\"].apply(lambda x: x.replace(\"VIII_REGION_BIO_BIO_SUR\", \"BIOBIO_SUR\"))\n",
    "    df[\"modulo\"] = df[\"modulo\"].apply(lambda x: x.replace(\"X_REGION_DE_LOS_LAGOS\", \"X_REGION\"))\n",
    "    df[\"modulo\"] = df[\"modulo\"].apply(lambda x: x.replace(\"XIV_REGION_DE_LOS_RIOS\", \"XIV_REGION\"))\n",
    "    return df"
   ]
  },
  {
   "cell_type": "code",
   "execution_count": 104,
   "metadata": {
    "ExecuteTime": {
     "end_time": "2020-05-29T04:57:27.354097Z",
     "start_time": "2020-05-29T04:57:27.321095Z"
    }
   },
   "outputs": [],
   "source": [
    "def clean_sucursal(df):\n",
    "    df[\"sucursal\"] = df[\"sucursal\"].str.replace(\"á\", \"a\")\n",
    "    df[\"sucursal\"] = df[\"sucursal\"].str.replace(\"é\", \"e\")\n",
    "    df[\"sucursal\"] = df[\"sucursal\"].str.replace(\"í\", \"i\")\n",
    "    df[\"sucursal\"] = df[\"sucursal\"].str.replace(\"ó\", \"o\")\n",
    "    df[\"sucursal\"] = df[\"sucursal\"].str.replace(\"ú\", \"u\")\n",
    "    df[\"sucursal\"] = df[\"sucursal\"].str.upper()\n",
    "    df[\"sucursal\"] = df[\"sucursal\"].str.replace(\" \", \"_\")\n",
    "    df[\"sucursal\"] = df[\"sucursal\"].str.replace(\"(\", \"\")\n",
    "    df[\"sucursal\"] = df[\"sucursal\"].str.replace(\")\", \"\")\n",
    "    df[\"sucursal\"] = df[\"sucursal\"].str.replace(\"_SERVIESTADO\", \"\")\n",
    "    df[\"sucursal\"] = df[\"sucursal\"].str.replace(\"CHUQUICAMATA_CALAMA_BALMACEDA_MALL\", \"CHUQUICAMATA\")\n",
    "    return df"
   ]
  },
  {
   "cell_type": "code",
   "execution_count": 105,
   "metadata": {
    "ExecuteTime": {
     "end_time": "2020-05-29T04:57:27.971486Z",
     "start_time": "2020-05-29T04:57:27.518121Z"
    }
   },
   "outputs": [],
   "source": [
    "df_sucursales = pd.read_excel(\"Reporte Turnos_COVID19_Consolidado_280520.xlsx\", sheet_name=\"ESTADO SUCURSALES\").drop([\"Unnamed: 6\", \"Unnamed: 7\"], axis = 1)\n",
    "df_sucursales = normalize_df(df_sucursales)\n",
    "df_sucursales = clean_zona(df_sucursales)\n",
    "df_sucursales = clean_modulo(df_sucursales)\n",
    "df_sucursales = clean_sucursal(df_sucursales)"
   ]
  },
  {
   "cell_type": "code",
   "execution_count": 106,
   "metadata": {
    "ExecuteTime": {
     "end_time": "2020-05-29T04:57:28.115488Z",
     "start_time": "2020-05-29T04:57:28.104489Z"
    }
   },
   "outputs": [
    {
     "data": {
      "application/vnd.jupyter.widget-view+json": {
       "model_id": "1cb8c3f3ce934371a03094bc5d007701",
       "version_major": 2,
       "version_minor": 0
      }
     },
     "metadata": {},
     "output_type": "display_data"
    }
   ],
   "source": [
    "df_sucursales.head(1)"
   ]
  },
  {
   "cell_type": "code",
   "execution_count": 107,
   "metadata": {
    "ExecuteTime": {
     "end_time": "2020-05-29T04:57:28.222493Z",
     "start_time": "2020-05-29T04:57:28.217493Z"
    }
   },
   "outputs": [
    {
     "name": "stdout",
     "output_type": "stream",
     "text": [
      "esta I_REGION\n",
      "esta II_REGION\n",
      "esta III_REGION\n",
      "esta IV_REGION\n",
      "esta V_REGION_CORDILLERA\n",
      "esta V_REGION_COSTA\n",
      "esta VI_REGION\n",
      "esta XV_REGION\n",
      "esta METROPOLITANA_CENTRO\n",
      "esta METROPOLITANA_NORTE\n",
      "esta METROPOLITANA_ORIENTE\n",
      "esta METROPOLITANA_PONIENTE\n",
      "esta METROPOLITANA_SUR\n",
      "esta BIOBIO_NORTE\n",
      "esta BIOBIO_SUR\n",
      "esta IX_REGION_NORTE\n",
      "esta IX_REGION_SUR\n",
      "esta VII_REGION\n",
      "esta VIII_REGION_CORDILLERA\n",
      "esta X_REGION\n",
      "esta XI_REGION\n",
      "esta XII_REGION\n",
      "esta XIV_REGION\n"
     ]
    }
   ],
   "source": [
    "for cada_modulo in df_sucursales.modulo.unique():\n",
    "    if cada_modulo in [MODULO for (MODULO, modulo) in MODULOS_NORTE+MODULOS_CENTRO+MODULOS_SUR]:\n",
    "        print(\"esta\",cada_modulo)\n",
    "    else:\n",
    "        print(\"no esta\",cada_modulo)"
   ]
  },
  {
   "cell_type": "code",
   "execution_count": 108,
   "metadata": {
    "ExecuteTime": {
     "end_time": "2020-05-29T04:57:28.333499Z",
     "start_time": "2020-05-29T04:57:28.326498Z"
    }
   },
   "outputs": [
    {
     "data": {
      "text/plain": [
       "array(['Abierta', 'Sin atención Microempresas Covid19',\n",
       "       'Cerradas BECH/BEME Covid19', 'Cerradas Contingencia Social'],\n",
       "      dtype=object)"
      ]
     },
     "execution_count": 108,
     "metadata": {},
     "output_type": "execute_result"
    }
   ],
   "source": [
    "df_sucursales.estado.unique()"
   ]
  },
  {
   "cell_type": "code",
   "execution_count": 109,
   "metadata": {
    "ExecuteTime": {
     "end_time": "2020-05-29T04:57:28.459503Z",
     "start_time": "2020-05-29T04:57:28.370500Z"
    }
   },
   "outputs": [],
   "source": [
    "df_sucursales[\"estado\"] = df_sucursales[\"estado\"].replace([\"Abierta\", \"Sin atención Microempresas Covid19\", \"Cerradas BECH/BEME Covid19\", 'Cerradas Contingencia Social'], [\"HABILITADA\", \"DESHABILITADA\",\"DESHABILITADA\", \"DESHABILITADA\" ])"
   ]
  },
  {
   "cell_type": "code",
   "execution_count": 110,
   "metadata": {
    "ExecuteTime": {
     "end_time": "2020-05-29T04:57:28.709513Z",
     "start_time": "2020-05-29T04:57:28.689517Z"
    }
   },
   "outputs": [
    {
     "data": {
      "application/vnd.jupyter.widget-view+json": {
       "model_id": "af85e3c5ea164f0ab085a2f9315061a6",
       "version_major": 2,
       "version_minor": 0
      }
     },
     "metadata": {},
     "output_type": "display_data"
    }
   ],
   "source": [
    "crea_rangos(df_sucursales)"
   ]
  },
  {
   "cell_type": "code",
   "execution_count": 111,
   "metadata": {
    "ExecuteTime": {
     "end_time": "2020-05-29T04:57:28.828519Z",
     "start_time": "2020-05-29T04:57:28.824519Z"
    }
   },
   "outputs": [],
   "source": [
    "df_sucursales = df_sucursales[[\"zona\", \"modulo\", \"cod_sucursal\", \"sucursal\", \"estado\"]]"
   ]
  },
  {
   "cell_type": "code",
   "execution_count": 112,
   "metadata": {
    "ExecuteTime": {
     "end_time": "2020-05-29T04:57:29.240536Z",
     "start_time": "2020-05-29T04:57:29.017528Z"
    }
   },
   "outputs": [],
   "source": [
    "df_sucursales.to_excel(\"sucursales_cleaned.xlsx\")"
   ]
  },
  {
   "cell_type": "code",
   "execution_count": 113,
   "metadata": {
    "ExecuteTime": {
     "end_time": "2020-05-29T04:57:29.416544Z",
     "start_time": "2020-05-29T04:57:29.411544Z"
    }
   },
   "outputs": [
    {
     "data": {
      "text/plain": [
       "(283, 5)"
      ]
     },
     "execution_count": 113,
     "metadata": {},
     "output_type": "execute_result"
    }
   ],
   "source": [
    "df_sucursales.shape"
   ]
  },
  {
   "cell_type": "code",
   "execution_count": null,
   "metadata": {},
   "outputs": [],
   "source": []
  }
 ],
 "metadata": {
  "hide_input": false,
  "kernelspec": {
   "display_name": "Django Shell-Plus",
   "language": "python",
   "name": "django_extensions"
  },
  "language_info": {
   "codemirror_mode": {
    "name": "ipython",
    "version": 3
   },
   "file_extension": ".py",
   "mimetype": "text/x-python",
   "name": "python",
   "nbconvert_exporter": "python",
   "pygments_lexer": "ipython3",
   "version": "3.6.6"
  },
  "toc": {
   "base_numbering": 1,
   "nav_menu": {},
   "number_sections": false,
   "sideBar": false,
   "skip_h1_title": false,
   "title_cell": "Table of Contents",
   "title_sidebar": "Contents",
   "toc_cell": false,
   "toc_position": {},
   "toc_section_display": false,
   "toc_window_display": false
  },
  "varInspector": {
   "cols": {
    "lenName": 16,
    "lenType": 16,
    "lenVar": 40
   },
   "kernels_config": {
    "python": {
     "delete_cmd_postfix": "",
     "delete_cmd_prefix": "del ",
     "library": "var_list.py",
     "varRefreshCmd": "print(var_dic_list())"
    },
    "r": {
     "delete_cmd_postfix": ") ",
     "delete_cmd_prefix": "rm(",
     "library": "var_list.r",
     "varRefreshCmd": "cat(var_dic_list()) "
    }
   },
   "types_to_exclude": [
    "module",
    "function",
    "builtin_function_or_method",
    "instance",
    "_Feature"
   ],
   "window_display": false
  }
 },
 "nbformat": 4,
 "nbformat_minor": 2
}
