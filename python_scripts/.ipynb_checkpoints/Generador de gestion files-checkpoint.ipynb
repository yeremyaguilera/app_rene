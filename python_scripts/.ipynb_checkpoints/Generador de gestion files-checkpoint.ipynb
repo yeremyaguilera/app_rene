{
 "cells": [
  {
   "cell_type": "code",
   "execution_count": 69,
   "metadata": {
    "ExecuteTime": {
     "end_time": "2020-05-26T00:26:49.364276Z",
     "start_time": "2020-05-26T00:26:49.360277Z"
    }
   },
   "outputs": [],
   "source": [
    "import os\n",
    "import pandas as pd\n",
    "import string\n",
    "os.environ[\"DJANGO_ALLOW_ASYNC_UNSAFE\"] = \"true\"\n",
    "\n",
    "from reneapp.settings import BASE_DIR\n",
    "\n",
    "import datetime\n",
    "today_srt = datetime.datetime.today().date().strftime(\"%d-%m-%Y\")"
   ]
  },
  {
   "cell_type": "code",
   "execution_count": 70,
   "metadata": {
    "ExecuteTime": {
     "end_time": "2020-05-26T00:26:49.588473Z",
     "start_time": "2020-05-26T00:26:49.585460Z"
    }
   },
   "outputs": [],
   "source": [
    "import xlwings"
   ]
  },
  {
   "cell_type": "code",
   "execution_count": 71,
   "metadata": {
    "ExecuteTime": {
     "end_time": "2020-05-26T00:26:49.841471Z",
     "start_time": "2020-05-26T00:26:49.836469Z"
    }
   },
   "outputs": [],
   "source": [
    "def get_letter(num):\n",
    "    resto = num%len(string.ascii_uppercase)\n",
    "    ciclo = num//len(string.ascii_uppercase)\n",
    "    \n",
    "    if ciclo == 0:\n",
    "        primera = \"\"\n",
    "    else:\n",
    "        primera = string.ascii_uppercase[ciclo-1]\n",
    "    \n",
    "    segunda = string.ascii_uppercase[resto]\n",
    "    \n",
    "    return primera+segunda"
   ]
  },
  {
   "cell_type": "code",
   "execution_count": 72,
   "metadata": {
    "ExecuteTime": {
     "end_time": "2020-05-26T00:26:52.157347Z",
     "start_time": "2020-05-26T00:26:50.055479Z"
    }
   },
   "outputs": [],
   "source": [
    "wb = xlwings.Book(\"Simulador Repro BASE.xlsm\")"
   ]
  },
  {
   "cell_type": "code",
   "execution_count": null,
   "metadata": {
    "ExecuteTime": {
     "end_time": "2020-05-26T00:26:52.273353Z",
     "start_time": "2020-05-26T00:26:50.317Z"
    }
   },
   "outputs": [],
   "source": [
    "personas_beme = Persona.objects.filter(zona=\"ZONA_CENTRO\", modulo=\"METROPOLITANA_CENTRO\")"
   ]
  },
  {
   "cell_type": "code",
   "execution_count": null,
   "metadata": {
    "ExecuteTime": {
     "end_time": "2020-05-26T00:26:52.288354Z",
     "start_time": "2020-05-26T00:26:50.550Z"
    }
   },
   "outputs": [],
   "source": [
    "atributos_cliente = [f.name for f in Cliente._meta.get_fields()]\n",
    "atributos_operacion = [f.name for f in Operacion._meta.get_fields()]"
   ]
  },
  {
   "cell_type": "code",
   "execution_count": null,
   "metadata": {
    "ExecuteTime": {
     "end_time": "2020-05-26T00:26:52.312354Z",
     "start_time": "2020-05-26T00:26:50.796Z"
    }
   },
   "outputs": [],
   "source": [
    "atributos_operacion"
   ]
  },
  {
   "cell_type": "code",
   "execution_count": null,
   "metadata": {
    "ExecuteTime": {
     "end_time": "2020-05-26T00:26:52.322355Z",
     "start_time": "2020-05-26T00:26:51.038Z"
    }
   },
   "outputs": [],
   "source": [
    "atributos_operacion.append(\"cli_rut\")"
   ]
  },
  {
   "cell_type": "code",
   "execution_count": null,
   "metadata": {
    "ExecuteTime": {
     "end_time": "2020-05-26T00:26:52.335355Z",
     "start_time": "2020-05-26T00:26:51.297Z"
    }
   },
   "outputs": [],
   "source": [
    "atributos_operacion.append(\"dec_cpd\")"
   ]
  },
  {
   "cell_type": "code",
   "execution_count": null,
   "metadata": {
    "ExecuteTime": {
     "end_time": "2020-05-26T00:26:52.345356Z",
     "start_time": "2020-05-26T00:26:51.550Z"
    }
   },
   "outputs": [],
   "source": [
    "atributos_operacion.append(\"n_cuota\")"
   ]
  },
  {
   "cell_type": "code",
   "execution_count": null,
   "metadata": {
    "ExecuteTime": {
     "end_time": "2020-05-26T00:26:52.354355Z",
     "start_time": "2020-05-26T00:26:51.813Z"
    }
   },
   "outputs": [],
   "source": [
    "atributos_operacion.append(\"cant_cuo\")"
   ]
  },
  {
   "cell_type": "code",
   "execution_count": null,
   "metadata": {
    "ExecuteTime": {
     "end_time": "2020-05-26T00:26:52.367356Z",
     "start_time": "2020-05-26T00:26:52.074Z"
    }
   },
   "outputs": [],
   "source": [
    "atributos_operacion.append(\"clave\")"
   ]
  },
  {
   "cell_type": "code",
   "execution_count": 73,
   "metadata": {
    "ExecuteTime": {
     "end_time": "2020-05-26T00:26:52.514363Z",
     "start_time": "2020-05-26T00:26:52.510362Z"
    }
   },
   "outputs": [],
   "source": [
    "atributos_operacion.append(\"dop_sdo_cst\")"
   ]
  },
  {
   "cell_type": "code",
   "execution_count": null,
   "metadata": {
    "ExecuteTime": {
     "end_time": "2020-05-26T00:26:52.675370Z",
     "start_time": "2020-05-26T00:26:52.567Z"
    }
   },
   "outputs": [],
   "source": [
    "atributos_operacion.append(\"num_ope\")"
   ]
  },
  {
   "cell_type": "code",
   "execution_count": 74,
   "metadata": {
    "ExecuteTime": {
     "end_time": "2020-05-26T00:26:52.814373Z",
     "start_time": "2020-05-26T00:26:52.810367Z"
    }
   },
   "outputs": [],
   "source": [
    "atributos_operacion.append(\"ope_num_mes_cuo\")"
   ]
  },
  {
   "cell_type": "code",
   "execution_count": 75,
   "metadata": {
    "ExecuteTime": {
     "end_time": "2020-05-26T00:26:53.064383Z",
     "start_time": "2020-05-26T00:26:53.061384Z"
    }
   },
   "outputs": [],
   "source": [
    "atributos_operacion.append(\"ope_tasa_penal\")"
   ]
  },
  {
   "cell_type": "code",
   "execution_count": 76,
   "metadata": {
    "ExecuteTime": {
     "end_time": "2020-05-26T00:26:53.333394Z",
     "start_time": "2020-05-26T00:26:53.322399Z"
    }
   },
   "outputs": [],
   "source": [
    "hoja_clientes    = wb.sheets[\"Base a filtrar\"]\n",
    "hoja_operaciones = wb.sheets[\"Base2\"]"
   ]
  },
  {
   "cell_type": "code",
   "execution_count": 77,
   "metadata": {
    "ExecuteTime": {
     "end_time": "2020-05-26T00:26:53.771411Z",
     "start_time": "2020-05-26T00:26:53.767411Z"
    }
   },
   "outputs": [],
   "source": [
    "relative_dir = os.path.join(BASE_DIR, 'excel_files', 'gestiones_a_realizar')"
   ]
  },
  {
   "cell_type": "code",
   "execution_count": 78,
   "metadata": {
    "ExecuteTime": {
     "end_time": "2020-05-26T00:27:03.111406Z",
     "start_time": "2020-05-26T00:26:54.237428Z"
    }
   },
   "outputs": [
    {
     "name": "stdout",
     "output_type": "stream",
     "text": [
      "ASISTENTE_COMERCIAL: ALEXANDRA YAÑEZ\n",
      "0    10952857\n",
      "Name: cli_rut, dtype: object\n",
      "0    10952857\n",
      "1    10952857\n",
      "2    10952857\n",
      "Name: cliente_id, dtype: int64 0    16882079\n",
      "1    19502003\n",
      "2    20244023\n",
      "Name: dop_num_ope, dtype: int64\n",
      "ayanez9_ALEXANDRA_YAÑEZ_gestion.xlsm\n",
      "ASISTENTE_COMERCIAL: BRYAN FRANCISCO MANRIQUEZ\n",
      "0     7895092\n",
      "1    12104520\n",
      "2    16911785\n",
      "Name: cli_rut, dtype: object\n",
      "0      7895092\n",
      "1      7895092\n",
      "2      7895092\n",
      "3      7895092\n",
      "4     12104520\n",
      "5     12104520\n",
      "6     16911785\n",
      "7     16911785\n",
      "8     16911785\n",
      "9     16911785\n",
      "10    16911785\n",
      "11    16911785\n",
      "Name: cliente_id, dtype: int64 0     21953242\n",
      "1     23953618\n",
      "2     24062131\n",
      "3     25245951\n",
      "4     18553293\n",
      "5     23900197\n",
      "6     20513673\n",
      "7     23947612\n",
      "8     24128636\n",
      "9     24129060\n",
      "10    24994573\n",
      "11    26077273\n",
      "Name: dop_num_ope, dtype: int64\n",
      "bmanriq3_BRYAN FRANCISCO_MANRIQUEZ_gestion.xlsm\n",
      "EJECUTIVO_COMERCIAL: Yeremy Aguilera\n",
      "0     8141899\n",
      "1     9384960\n",
      "2    14689461\n",
      "Name: cli_rut, dtype: object\n",
      "0     8141899\n",
      "1     8141899\n",
      "2     9384960\n",
      "3    14689461\n",
      "4    14689461\n",
      "5    14689461\n",
      "6    14689461\n",
      "Name: cliente_id, dtype: int64 0    22857383\n",
      "1    22859265\n",
      "2    22222287\n",
      "3    23494820\n",
      "4    24055115\n",
      "5    24057713\n",
      "6    24849087\n",
      "Name: dop_num_ope, dtype: int64\n",
      "yaguile1_Yeremy_Aguilera_gestion.xlsm\n"
     ]
    }
   ],
   "source": [
    "for cada_persona_beme in personas_beme:\n",
    "    if Cliente.objects.filter(gestor = cada_persona_beme).exists():\n",
    "        print(cada_persona_beme)\n",
    "        clientes = pd.DataFrame(list(Cliente.objects.filter(gestor = cada_persona_beme, disponibilidad_oferta = True).values()))\n",
    "        clientes.rename(columns = {'ejecutivo_cartera_id': 'ejecutivo_cartera'}, inplace = True)\n",
    "        clientes.replace([True, False], [\"SI\", \"NO\"], inplace = True)\n",
    "        print(clientes[\"cli_rut\"])\n",
    "        #Para cada columna\n",
    "        for cada_letra in string.ascii_uppercase:\n",
    "            #Si la columna tiene el nombre dentro de los atributos del modelo\n",
    "            if hoja_clientes.range(cada_letra + str(1)).value in atributos_cliente:\n",
    "                #Escribe en el excel\n",
    "                columna_excel = cada_letra\n",
    "                #Iteramos sobre los clientes, las filas\n",
    "                for num_fila, cada_cliente in clientes.iterrows():\n",
    "                    fila_excel = str(num_fila+2)\n",
    "                    if hoja_clientes.range(cada_letra + str(1)).value == \"ejecutivo_cartera\":\n",
    "                        ejecutivo_cartera = Persona.objects.get(codigo_persona_beme = cada_cliente.loc[hoja_clientes.range(cada_letra + str(1)).value])\n",
    "                        nombre_ejecutivo = ejecutivo_cartera.nombre\n",
    "                        apellido_ejecutivo = ejecutivo_cartera.apellido\n",
    "                        apellido_materno_ejecutivo = ejecutivo_cartera.apellido_materno\n",
    "                        hoja_clientes.range(columna_excel + fila_excel).value = nombre_ejecutivo + \" \" + apellido_ejecutivo + \" \" + apellido_materno_ejecutivo\n",
    "                    else:\n",
    "                        hoja_clientes.range(columna_excel + fila_excel).value = cada_cliente.loc[hoja_clientes.range(cada_letra + str(1)).value]\n",
    "        \n",
    "        \n",
    "        operaciones = pd.DataFrame(list(Operacion.objects.filter(cliente__cli_rut__in = list(clientes[\"cli_rut\"])).values()))\n",
    "        print(operaciones[\"cliente_id\"], operaciones[\"dop_num_ope\"])\n",
    "        for cada_columna in range(35):\n",
    "            if hoja_operaciones.range(get_letter(cada_columna) + str(1)).value in atributos_operacion:\n",
    "                columna_excel = get_letter(cada_columna)\n",
    "                #Iteramos sobre las operaciones, las filas\n",
    "                n_cuota = 1\n",
    "                n_clave = 1\n",
    "                for num_fila, cada_operacion in operaciones.iterrows():\n",
    "                    cliente = Cliente.objects.get(cli_rut = cada_operacion[\"cliente_id\"])\n",
    "                    impacto_operaciones = ImpactoOperacion.objects.get(cliente__cli_rut = cada_operacion[\"cliente_id\"])\n",
    "                    \n",
    "                    fila_excel = str(num_fila+2)\n",
    "                    if hoja_operaciones.range(columna_excel + str(1)).value == \"cli_rut\":\n",
    "                        hoja_operaciones.range(columna_excel + fila_excel).value = cliente.cli_rut\n",
    "                        \n",
    "                    elif hoja_operaciones.range(columna_excel + str(1)).value == \"dec_cpd\":\n",
    "                        hoja_operaciones.range(columna_excel + fila_excel).value = cada_operacion.loc[\"cpd\"]\n",
    "                        \n",
    "                    elif hoja_operaciones.range(columna_excel + str(1)).value == \"cant_cuo\":\n",
    "                        hoja_operaciones.range(columna_excel + fila_excel).value = impacto_operaciones.cant_ope\n",
    "                        \n",
    "                    elif hoja_operaciones.range(columna_excel + str(1)).value == \"n_cuota\":\n",
    "                        hoja_operaciones.range(columna_excel + fila_excel).value = n_cuota\n",
    "                        n_cuota+=1\n",
    "                        \n",
    "                    elif hoja_operaciones.range(columna_excel + str(1)).value == \"clave\":\n",
    "                        hoja_operaciones.range(columna_excel + fila_excel).value = str(cada_operacion[\"cliente_id\"]) + \" - \" + str(n_clave) + \"1\"\n",
    "                        n_clave+=1\n",
    "                        \n",
    "                    elif hoja_operaciones.range(columna_excel + str(1)).value == \"num_ope\":\n",
    "                        hoja_operaciones.range(columna_excel + fila_excel).value = cada_operacion[\"dop_num_ope\"]\n",
    "                        \n",
    "                    elif hoja_operaciones.range(columna_excel + str(1)).value == \"dop_sdo_cst\":\n",
    "                        hoja_operaciones.range(columna_excel + fila_excel).value = 0\n",
    "                        \n",
    "                    elif hoja_operaciones.range(columna_excel + str(1)).value == \"ope_num_mes_cuo\":\n",
    "                        hoja_operaciones.range(columna_excel + fila_excel).value = 1\n",
    "                        \n",
    "                    elif hoja_operaciones.range(columna_excel + str(1)).value == \"ope_tasa_penal\":\n",
    "                        hoja_operaciones.range(columna_excel + fila_excel).value = cada_operacion[\"ope_tasa_penal_diaria\"]*365\n",
    "                    else:\n",
    "                        hoja_operaciones.range(columna_excel + fila_excel).value = cada_operacion.loc[hoja_operaciones.range(columna_excel + str(1)).value]\n",
    "        \n",
    "        folder_name = os.path.join(relative_dir, cada_persona_beme.zona, cada_persona_beme.modulo, today_srt)\n",
    "\n",
    "        if not os.path.exists(folder_name):\n",
    "            os.makedirs(folder_name)\n",
    "\n",
    "        file_name   = cada_persona_beme.codigo_persona_beme + \"_\" + cada_persona_beme.nombre +  \"_\" + cada_persona_beme.apellido + \"_gestion.xlsm\"\n",
    "        print(file_name)\n",
    "        wb.save(os.path.join(folder_name, file_name))\n",
    "\n",
    "wb.close()"
   ]
  },
  {
   "cell_type": "code",
   "execution_count": null,
   "metadata": {
    "ExecuteTime": {
     "end_time": "2020-05-25T15:21:00.119943Z",
     "start_time": "2020-05-25T15:20:59.545847Z"
    }
   },
   "outputs": [],
   "source": [
    "OfertaCliente.objects.all().delete()"
   ]
  },
  {
   "cell_type": "code",
   "execution_count": null,
   "metadata": {
    "ExecuteTime": {
     "end_time": "2020-05-25T15:21:02.916853Z",
     "start_time": "2020-05-25T15:21:02.671485Z"
    }
   },
   "outputs": [],
   "source": [
    "ImpactoOperacion.objects.all().delete()"
   ]
  },
  {
   "cell_type": "code",
   "execution_count": null,
   "metadata": {
    "ExecuteTime": {
     "end_time": "2020-05-24T22:19:53.028131Z",
     "start_time": "2020-05-24T22:19:52.977128Z"
    }
   },
   "outputs": [],
   "source": [
    "hoja_clientes.range(\"A1\").value"
   ]
  },
  {
   "cell_type": "code",
   "execution_count": null,
   "metadata": {
    "ExecuteTime": {
     "end_time": "2020-05-24T22:20:05.896442Z",
     "start_time": "2020-05-24T22:20:05.854451Z"
    }
   },
   "outputs": [],
   "source": [
    "for cada_letra in string.ascii_uppercase:\n",
    "    print(hoja_clientes.range(cada_letra + str(1)).value)"
   ]
  },
  {
   "cell_type": "code",
   "execution_count": null,
   "metadata": {
    "ExecuteTime": {
     "end_time": "2020-05-25T00:52:51.286257Z",
     "start_time": "2020-05-25T00:52:51.276270Z"
    }
   },
   "outputs": [],
   "source": [
    "get_letter(30)"
   ]
  },
  {
   "cell_type": "code",
   "execution_count": null,
   "metadata": {},
   "outputs": [],
   "source": []
  }
 ],
 "metadata": {
  "hide_input": false,
  "kernelspec": {
   "display_name": "Django Shell-Plus",
   "language": "python",
   "name": "django_extensions"
  },
  "language_info": {
   "codemirror_mode": {
    "name": "ipython",
    "version": 3
   },
   "file_extension": ".py",
   "mimetype": "text/x-python",
   "name": "python",
   "nbconvert_exporter": "python",
   "pygments_lexer": "ipython3",
   "version": "3.6.6"
  },
  "toc": {
   "base_numbering": 1,
   "nav_menu": {},
   "number_sections": false,
   "sideBar": false,
   "skip_h1_title": false,
   "title_cell": "Table of Contents",
   "title_sidebar": "Contents",
   "toc_cell": false,
   "toc_position": {},
   "toc_section_display": false,
   "toc_window_display": false
  },
  "varInspector": {
   "cols": {
    "lenName": 16,
    "lenType": 16,
    "lenVar": 40
   },
   "kernels_config": {
    "python": {
     "delete_cmd_postfix": "",
     "delete_cmd_prefix": "del ",
     "library": "var_list.py",
     "varRefreshCmd": "print(var_dic_list())"
    },
    "r": {
     "delete_cmd_postfix": ") ",
     "delete_cmd_prefix": "rm(",
     "library": "var_list.r",
     "varRefreshCmd": "cat(var_dic_list()) "
    }
   },
   "types_to_exclude": [
    "module",
    "function",
    "builtin_function_or_method",
    "instance",
    "_Feature"
   ],
   "window_display": false
  }
 },
 "nbformat": 4,
 "nbformat_minor": 2
}
