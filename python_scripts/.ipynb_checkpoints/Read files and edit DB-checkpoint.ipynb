{
 "cells": [
  {
   "cell_type": "code",
   "execution_count": null,
   "metadata": {
    "ExecuteTime": {
     "end_time": "2020-05-19T16:53:16.169169Z",
     "start_time": "2020-05-19T16:53:16.165585Z"
    }
   },
   "outputs": [],
   "source": [
    "from app_rene.personas_beme.forms import FormularioClienteExcel"
   ]
  },
  {
   "cell_type": "code",
   "execution_count": null,
   "metadata": {
    "ExecuteTime": {
     "end_time": "2020-05-19T16:53:16.456457Z",
     "start_time": "2020-05-19T16:53:16.451392Z"
    }
   },
   "outputs": [],
   "source": [
    "import os\n",
    "import datetime\n",
    "import pandas as pd\n",
    "\n",
    "import sys\n",
    "sys.path.append(\"../\")\n",
    "\n",
    "from app_rene.python_scripts import cleaning\n",
    "\n",
    "from python_scripts import cleaning\n",
    "pd.set_option('display.max_rows', 500)\n",
    "pd.set_option('display.max_columns', 500)\n",
    "pd.set_option('display.width', 1000)"
   ]
  },
  {
   "cell_type": "code",
   "execution_count": null,
   "metadata": {
    "ExecuteTime": {
     "end_time": "2020-05-19T16:53:16.731461Z",
     "start_time": "2020-05-19T16:53:16.726045Z"
    }
   },
   "outputs": [],
   "source": [
    "def get_closest_day(list_days):\n",
    "    list_date_ft = [datetime.datetime.strptime(date, \"%d-%m-%Y\") for date in list_days]\n",
    "    list_date_ft.sort()\n",
    "    last_day     = list_date_ft[-1]\n",
    "    return last_day.date().strftime(\"%d-%m-%Y\")"
   ]
  },
  {
   "cell_type": "code",
   "execution_count": null,
   "metadata": {
    "ExecuteTime": {
     "end_time": "2020-05-19T16:53:17.032762Z",
     "start_time": "2020-05-19T16:53:17.027960Z"
    }
   },
   "outputs": [],
   "source": [
    "def get_all_fields_from_form(instance):\n",
    "    \"\"\"\"\n",
    "    Return names of all available fields from given Form instance.\n",
    "\n",
    "    :arg instance: Form instance\n",
    "    :returns list of field names\n",
    "    :rtype: list\n",
    "    \"\"\"\n",
    "    fields = list(instance().base_fields)\n",
    "\n",
    "    for field in list(instance().declared_fields):\n",
    "        if field not in fields:\n",
    "            fields.append(field)\n",
    "    return fields"
   ]
  },
  {
   "cell_type": "code",
   "execution_count": null,
   "metadata": {
    "ExecuteTime": {
     "end_time": "2020-05-19T16:53:17.403488Z",
     "start_time": "2020-05-19T16:53:17.399603Z"
    }
   },
   "outputs": [],
   "source": [
    "relative_dir = '../app_rene/excel_files/gestiones/'\n",
    "dates_folders  = os.listdir(relative_dir)\n",
    "recent_date_folder = get_closest_day(dates_folders)"
   ]
  },
  {
   "cell_type": "code",
   "execution_count": null,
   "metadata": {
    "ExecuteTime": {
     "end_time": "2020-05-19T16:53:17.687641Z",
     "start_time": "2020-05-19T16:53:17.681983Z"
    }
   },
   "outputs": [],
   "source": [
    "nombre_columnas = get_all_fields_from_form(FormularioClienteExcel)"
   ]
  },
  {
   "cell_type": "code",
   "execution_count": null,
   "metadata": {
    "ExecuteTime": {
     "end_time": "2020-05-19T16:53:17.935348Z",
     "start_time": "2020-05-19T16:53:17.931844Z"
    }
   },
   "outputs": [],
   "source": [
    "relative_dir_folder = relative_dir + '/' + recent_date_folder\n",
    "gestor_folders  = os.listdir(relative_dir_folder)"
   ]
  },
  {
   "cell_type": "code",
   "execution_count": null,
   "metadata": {
    "ExecuteTime": {
     "end_time": "2020-05-19T16:53:34.726516Z",
     "start_time": "2020-05-19T16:53:18.383056Z"
    }
   },
   "outputs": [],
   "source": [
    "for each_gestor in gestor_folders:\n",
    "    print(\"codigo_gestor\", each_gestor)\n",
    "    relative_dir_folder_file = relative_dir_folder + '/' + each_gestor\n",
    "    gestor_files             = os.listdir(relative_dir_folder_file)\n",
    "    \n",
    "    path_files = [relative_dir_folder_file + '/' + file for file in gestor_files]\n",
    "    file_name_time = {file_name : os.path.getctime(path) for file_name, path in zip(gestor_files, path_files)}\n",
    "    file_name_time_sorted = sorted(file_name_time, key=file_name_time.get)[-1]\n",
    "    last_file_upload = pd.read_excel(relative_dir_folder_file + \"/\" + file_name_time_sorted, sheet_name=\"Datos\")\n",
    "    df_clientes = cleaning.normalize_df(last_file_upload)\n",
    "    df_clientes = cleaning.rename_columns_clientes(df_clientes)\n",
    "    df_clientes.rename(columns={\"rut_cliente\": \"cli_rut\"}, inplace = True)\n",
    "    df_clientes = df_clientes[nombre_columnas]\n",
    "    \n",
    "    for index, cada_cliente in df_clientes.iterrows():\n",
    "        cada_cliente[\"gestor\"] = Persona.objects.get(codigo_persona_beme = each_gestor)\n",
    "        cliente = Cliente.objects.get(cli_rut = cada_cliente.cli_rut)\n",
    "        for (key, value) in cada_cliente.to_dict().items():\n",
    "            if str(value) == \"nan\":\n",
    "                value = None\n",
    "            if ('fecha' in key) and (value == None):\n",
    "                value = datetime.datetime.today().date()\n",
    "            if type(value) == str:\n",
    "                value.strip()\n",
    "                value = value.replace(\" \", \"_\")\n",
    "                value = value.replace(\"Á\", \"A\")\n",
    "                value = value.replace(\"É\", \"E\")\n",
    "                value = value.replace(\"Í\", \"I\")\n",
    "                value = value.replace(\"Ó\", \"O\")\n",
    "                value = value.replace(\"Ú\", \"U\")\n",
    "            setattr(cliente, key, value)\n",
    "        cliente.save()"
   ]
  },
  {
   "cell_type": "code",
   "execution_count": null,
   "metadata": {},
   "outputs": [],
   "source": []
  }
 ],
 "metadata": {
  "hide_input": false,
  "kernelspec": {
   "display_name": "Django Shell-Plus",
   "language": "python",
   "name": "django_extensions"
  },
  "language_info": {
   "codemirror_mode": {
    "name": "ipython",
    "version": 3
   },
   "file_extension": ".py",
   "mimetype": "text/x-python",
   "name": "python",
   "nbconvert_exporter": "python",
   "pygments_lexer": "ipython3",
   "version": "3.6.6"
  },
  "latex_envs": {
   "LaTeX_envs_menu_present": true,
   "autoclose": true,
   "autocomplete": true,
   "bibliofile": "biblio.bib",
   "cite_by": "apalike",
   "current_citInitial": 1,
   "eqLabelWithNumbers": true,
   "eqNumInitial": 1,
   "hotkeys": {
    "equation": "Ctrl-E",
    "itemize": "Ctrl-I"
   },
   "labels_anchors": false,
   "latex_user_defs": false,
   "report_style_numbering": true,
   "user_envs_cfg": false
  },
  "toc": {
   "base_numbering": 1,
   "nav_menu": {},
   "number_sections": false,
   "sideBar": false,
   "skip_h1_title": false,
   "title_cell": "Table of Contents",
   "title_sidebar": "Contents",
   "toc_cell": false,
   "toc_position": {},
   "toc_section_display": false,
   "toc_window_display": false
  },
  "varInspector": {
   "cols": {
    "lenName": 16,
    "lenType": 16,
    "lenVar": 40
   },
   "kernels_config": {
    "python": {
     "delete_cmd_postfix": "",
     "delete_cmd_prefix": "del ",
     "library": "var_list.py",
     "varRefreshCmd": "print(var_dic_list())"
    },
    "r": {
     "delete_cmd_postfix": ") ",
     "delete_cmd_prefix": "rm(",
     "library": "var_list.r",
     "varRefreshCmd": "cat(var_dic_list()) "
    }
   },
   "types_to_exclude": [
    "module",
    "function",
    "builtin_function_or_method",
    "instance",
    "_Feature"
   ],
   "window_display": false
  }
 },
 "nbformat": 4,
 "nbformat_minor": 2
}
