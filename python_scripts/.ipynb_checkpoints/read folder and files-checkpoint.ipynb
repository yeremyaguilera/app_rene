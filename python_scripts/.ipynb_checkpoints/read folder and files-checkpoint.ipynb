{
 "cells": [
  {
   "cell_type": "code",
   "execution_count": 38,
   "metadata": {
    "ExecuteTime": {
     "end_time": "2020-05-25T18:57:49.334844Z",
     "start_time": "2020-05-25T18:57:49.331839Z"
    }
   },
   "outputs": [],
   "source": [
    "import os\n",
    "import pandas as pd\n",
    "from reneapp.settings import BASE_DIR\n",
    "os.environ[\"DJANGO_ALLOW_ASYNC_UNSAFE\"] = \"true\"\n",
    "\n",
    "zona = 'ZONA_CENTRO'\n",
    "modulo = 'METROPOLITANA_CENTRO'"
   ]
  },
  {
   "cell_type": "code",
   "execution_count": 39,
   "metadata": {
    "ExecuteTime": {
     "end_time": "2020-05-25T18:57:49.588854Z",
     "start_time": "2020-05-25T18:57:49.582856Z"
    }
   },
   "outputs": [],
   "source": [
    "relative_dir = os.path.join(BASE_DIR, 'excel_files', 'gestiones_a_realizar', zona, modulo)\n",
    "fechas  = os.listdir(relative_dir)"
   ]
  },
  {
   "cell_type": "code",
   "execution_count": 40,
   "metadata": {
    "ExecuteTime": {
     "end_time": "2020-05-25T18:57:49.791861Z",
     "start_time": "2020-05-25T18:57:49.786863Z"
    }
   },
   "outputs": [
    {
     "data": {
      "text/plain": [
       "['24-05-2020', '25-05-2020']"
      ]
     },
     "execution_count": 40,
     "metadata": {},
     "output_type": "execute_result"
    }
   ],
   "source": [
    "nombre_archivo"
   ]
  },
  {
   "cell_type": "code",
   "execution_count": 41,
   "metadata": {
    "ExecuteTime": {
     "end_time": "2020-05-25T18:57:50.005870Z",
     "start_time": "2020-05-25T18:57:49.999869Z"
    }
   },
   "outputs": [],
   "source": [
    "df_table = pd.DataFrame(columns={\"fecha\", \"usuario\", \"gestor\", \"file_name\"})"
   ]
  },
  {
   "cell_type": "code",
   "execution_count": 45,
   "metadata": {
    "ExecuteTime": {
     "end_time": "2020-05-25T19:00:29.611779Z",
     "start_time": "2020-05-25T19:00:29.579771Z"
    }
   },
   "outputs": [
    {
     "name": "stdout",
     "output_type": "stream",
     "text": [
      "24-05-2020 ayanez9 ASISTENTE_COMERCIAL: ALEXANDRA YAÑEZ ayanez9_ALEXANDRA_YAÑEZ_gestion.xlsm\n",
      "24-05-2020 yaguile1 EJECUTIVO_COMERCIAL: Yeremy Aguilera yaguile1_Yeremy_Aguilera_gestion.xlsm\n",
      "25-05-2020 ayanez9 ASISTENTE_COMERCIAL: ALEXANDRA YAÑEZ ayanez9_ALEXANDRA_YAÑEZ_gestion.xlsm\n",
      "25-05-2020 yaguile1 EJECUTIVO_COMERCIAL: Yeremy Aguilera yaguile1_Yeremy_Aguilera_gestion.xlsm\n"
     ]
    }
   ],
   "source": [
    "for cada_fecha in fechas:\n",
    "    dir_fechas = os.path.join(relative_dir, cada_fecha)\n",
    "    nombre_archivos = os.listdir(dir_fechas)\n",
    "    for cada_archivo in nombre_archivos:\n",
    "        fila = {\"fecha\"     : cada_fecha, \n",
    "                \"usuario\"   : cada_archivo.split(\"_\")[0],\n",
    "                \"gestor\"    : Persona.objects.get(codigo_persona_beme = cada_archivo.split(\"_\")[0]),\n",
    "                \"file_name\" : cada_archivo}\n",
    "        df_table = df_table.append(fila, ignore_index = True)\n",
    "        print(cada_fecha, cada_archivo.split(\"_\")[0], Persona.objects.get(codigo_persona_beme = cada_archivo.split(\"_\")[0]), cada_archivo)"
   ]
  },
  {
   "cell_type": "code",
   "execution_count": 59,
   "metadata": {
    "ExecuteTime": {
     "end_time": "2020-05-25T19:41:49.578954Z",
     "start_time": "2020-05-25T19:41:49.573954Z"
    }
   },
   "outputs": [
    {
     "data": {
      "text/plain": [
       "['24-05-2020', '24-05-2020', '25-05-2020', '25-05-2020']"
      ]
     },
     "execution_count": 59,
     "metadata": {},
     "output_type": "execute_result"
    }
   ],
   "source": [
    "list(df_table[\"fecha\"])"
   ]
  },
  {
   "cell_type": "code",
   "execution_count": 60,
   "metadata": {
    "ExecuteTime": {
     "end_time": "2020-05-25T19:42:20.671621Z",
     "start_time": "2020-05-25T19:42:20.661622Z"
    }
   },
   "outputs": [
    {
     "data": {
      "text/plain": [
       "RangeIndex(start=0, stop=4, step=1)"
      ]
     },
     "execution_count": 60,
     "metadata": {},
     "output_type": "execute_result"
    }
   ],
   "source": [
    "df_table.index"
   ]
  },
  {
   "cell_type": "code",
   "execution_count": null,
   "metadata": {},
   "outputs": [],
   "source": []
  }
 ],
 "metadata": {
  "hide_input": false,
  "kernelspec": {
   "display_name": "Django Shell-Plus",
   "language": "python",
   "name": "django_extensions"
  },
  "language_info": {
   "codemirror_mode": {
    "name": "ipython",
    "version": 3
   },
   "file_extension": ".py",
   "mimetype": "text/x-python",
   "name": "python",
   "nbconvert_exporter": "python",
   "pygments_lexer": "ipython3",
   "version": "3.6.6"
  },
  "toc": {
   "base_numbering": 1,
   "nav_menu": {},
   "number_sections": false,
   "sideBar": false,
   "skip_h1_title": false,
   "title_cell": "Table of Contents",
   "title_sidebar": "Contents",
   "toc_cell": false,
   "toc_position": {},
   "toc_section_display": false,
   "toc_window_display": false
  },
  "varInspector": {
   "cols": {
    "lenName": 16,
    "lenType": 16,
    "lenVar": 40
   },
   "kernels_config": {
    "python": {
     "delete_cmd_postfix": "",
     "delete_cmd_prefix": "del ",
     "library": "var_list.py",
     "varRefreshCmd": "print(var_dic_list())"
    },
    "r": {
     "delete_cmd_postfix": ") ",
     "delete_cmd_prefix": "rm(",
     "library": "var_list.r",
     "varRefreshCmd": "cat(var_dic_list()) "
    }
   },
   "types_to_exclude": [
    "module",
    "function",
    "builtin_function_or_method",
    "instance",
    "_Feature"
   ],
   "window_display": false
  }
 },
 "nbformat": 4,
 "nbformat_minor": 2
}
