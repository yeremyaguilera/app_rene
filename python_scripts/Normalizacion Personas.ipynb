{
 "cells": [
  {
   "cell_type": "code",
   "execution_count": 204,
   "metadata": {
    "ExecuteTime": {
     "end_time": "2020-05-29T04:57:12.382074Z",
     "start_time": "2020-05-29T04:57:12.377090Z"
    }
   },
   "outputs": [],
   "source": [
    "from personas_beme.models import MODULOS_NORTE, MODULOS_CENTRO, MODULOS_SUR"
   ]
  },
  {
   "cell_type": "code",
   "execution_count": 205,
   "metadata": {
    "ExecuteTime": {
     "end_time": "2020-05-29T04:57:12.567081Z",
     "start_time": "2020-05-29T04:57:12.564080Z"
    }
   },
   "outputs": [],
   "source": [
    "import pandas as pd\n",
    "from cleaning import *"
   ]
  },
  {
   "cell_type": "code",
   "execution_count": 206,
   "metadata": {
    "ExecuteTime": {
     "end_time": "2020-05-29T04:57:12.738087Z",
     "start_time": "2020-05-29T04:57:12.733087Z"
    }
   },
   "outputs": [],
   "source": [
    "def clean_zona(serie_zona):\n",
    "    serie_zona.replace(\"NORTE\", \"ZONA_NORTE\", inplace = True)\n",
    "    serie_zona.replace(\"CENTRO\", \"ZONA_CENTRO\", inplace = True)\n",
    "    serie_zona.replace(\"SUR\", \"ZONA_SUR\", inplace = True)\n",
    "    return serie_zona"
   ]
  },
  {
   "cell_type": "code",
   "execution_count": 207,
   "metadata": {
    "ExecuteTime": {
     "end_time": "2020-05-29T04:57:12.911094Z",
     "start_time": "2020-05-29T04:57:12.904097Z"
    }
   },
   "outputs": [],
   "source": [
    "def clean_modulo(df):\n",
    "    df[\"modulo\"] = df[\"modulo\"].str.upper()\n",
    "    df[\"modulo\"] = df[\"modulo\"].str.replace(\" \", \"_\")\n",
    "    df[\"modulo\"] = df[\"modulo\"].apply(lambda x: x.replace(\"Ó\", \"O\"))\n",
    "    df[\"modulo\"] = df[\"modulo\"].apply(lambda x: x.replace(\"Í\", \"I\"))\n",
    "    df[\"modulo\"] = df[\"modulo\"].apply(lambda x: x.replace(\"METROP.\", \"METROPOLITANA\"))\n",
    "    df[\"modulo\"] = df[\"modulo\"].apply(lambda x: x.replace(\"VIII_REGION_BIO_BIO_NORTE\", \"BIOBIO_NORTE\"))\n",
    "    df[\"modulo\"] = df[\"modulo\"].apply(lambda x: x.replace(\"VIII_REGION_BIO_BIO_SUR\", \"BIOBIO_SUR\"))\n",
    "    df[\"modulo\"] = df[\"modulo\"].apply(lambda x: x.replace(\"X_REGION_DE_LOS_LAGOS\", \"X_REGION\"))\n",
    "    df[\"modulo\"] = df[\"modulo\"].apply(lambda x: x.replace(\"XIV_REGION_DE_LOS_RIOS\", \"XIV_REGION\"))\n",
    "    return df"
   ]
  },
  {
   "cell_type": "code",
   "execution_count": 208,
   "metadata": {
    "ExecuteTime": {
     "end_time": "2020-05-29T04:57:13.084104Z",
     "start_time": "2020-05-29T04:57:13.070102Z"
    }
   },
   "outputs": [],
   "source": [
    "def clean_sucursal(df):\n",
    "    df[\"sucursal\"] = df[\"sucursal\"].str.replace(\"á\", \"a\")\n",
    "    df[\"sucursal\"] = df[\"sucursal\"].str.replace(\"é\", \"e\")\n",
    "    df[\"sucursal\"] = df[\"sucursal\"].str.replace(\"í\", \"i\")\n",
    "    df[\"sucursal\"] = df[\"sucursal\"].str.replace(\"ó\", \"o\")\n",
    "    df[\"sucursal\"] = df[\"sucursal\"].str.replace(\"ú\", \"u\")\n",
    "    df[\"sucursal\"] = df[\"sucursal\"].str.upper()\n",
    "    df[\"sucursal\"] = df[\"sucursal\"].str.replace(\" \", \"_\")\n",
    "    df[\"sucursal\"] = df[\"sucursal\"].str.replace(\"(\", \"\")\n",
    "    df[\"sucursal\"] = df[\"sucursal\"].str.replace(\")\", \"\")\n",
    "    df[\"sucursal\"] = df[\"sucursal\"].str.replace(\"_SERVIESTADO\", \"\")\n",
    "    return df"
   ]
  },
  {
   "cell_type": "code",
   "execution_count": 209,
   "metadata": {
    "ExecuteTime": {
     "end_time": "2020-05-29T04:57:13.235109Z",
     "start_time": "2020-05-29T04:57:13.232109Z"
    }
   },
   "outputs": [],
   "source": [
    "def clean_trabaja_hoy(df):\n",
    "    df[\"trabaja_hoy\"] = df[\"trabaja_hoy\"].str.upper()\n",
    "    return df"
   ]
  },
  {
   "cell_type": "code",
   "execution_count": 210,
   "metadata": {
    "ExecuteTime": {
     "end_time": "2020-05-29T04:57:13.794149Z",
     "start_time": "2020-05-29T04:57:13.411117Z"
    }
   },
   "outputs": [],
   "source": [
    "df_personas_beme = pd.read_excel(\"Reporte Turnos_COVID19_Consolidado_280520.xlsx\", sheet_name=\"REPORTE_TURNO\")\n",
    "df_personas_beme = limpia_espacios(df_personas_beme)\n",
    "df_personas_beme = normalize_df(df_personas_beme)\n",
    "df_personas_beme[\"zona\"] = clean_zona(df_personas_beme[\"zona\"])\n",
    "df_personas_beme = clean_modulo(df_personas_beme)\n",
    "df_personas_beme = clean_trabaja_hoy(df_personas_beme)\n",
    "df_personas_beme = clean_sucursal(df_personas_beme)"
   ]
  },
  {
   "cell_type": "code",
   "execution_count": 211,
   "metadata": {
    "ExecuteTime": {
     "end_time": "2020-05-29T04:57:13.916136Z",
     "start_time": "2020-05-29T04:57:13.912138Z"
    }
   },
   "outputs": [
    {
     "data": {
      "text/plain": [
       "(991, 15)"
      ]
     },
     "execution_count": 211,
     "metadata": {},
     "output_type": "execute_result"
    }
   ],
   "source": [
    "df_personas_beme.shape"
   ]
  },
  {
   "cell_type": "code",
   "execution_count": 212,
   "metadata": {
    "ExecuteTime": {
     "end_time": "2020-05-29T04:57:14.042143Z",
     "start_time": "2020-05-29T04:57:14.037138Z"
    }
   },
   "outputs": [
    {
     "data": {
      "text/plain": [
       "783"
      ]
     },
     "execution_count": 212,
     "metadata": {},
     "output_type": "execute_result"
    }
   ],
   "source": [
    "494 + 289"
   ]
  },
  {
   "cell_type": "code",
   "execution_count": 213,
   "metadata": {
    "ExecuteTime": {
     "end_time": "2020-05-29T04:57:14.179149Z",
     "start_time": "2020-05-29T04:57:14.168151Z"
    }
   },
   "outputs": [
    {
     "data": {
      "text/plain": [
       "array(['EC Aut', 'EC', 'AC', 'G. Emprende', 'Asesor de Negocio',\n",
       "       'Asesor de Riesgo', 'Asistente Regional', 'Jefe Comercial', 'SSTT',\n",
       "       'Subgerente Regional', 'CADE'], dtype=object)"
      ]
     },
     "execution_count": 213,
     "metadata": {},
     "output_type": "execute_result"
    }
   ],
   "source": [
    "df_personas_beme.cargo.unique()"
   ]
  },
  {
   "cell_type": "code",
   "execution_count": 214,
   "metadata": {
    "ExecuteTime": {
     "end_time": "2020-05-29T04:57:14.307154Z",
     "start_time": "2020-05-29T04:57:14.302155Z"
    }
   },
   "outputs": [],
   "source": [
    "df_personas_beme = df_personas_beme[df_personas_beme[\"cargo\"].isin([\"EC Aut\", \"EC\", \"AC\"])]"
   ]
  },
  {
   "cell_type": "code",
   "execution_count": 215,
   "metadata": {
    "ExecuteTime": {
     "end_time": "2020-05-29T04:57:14.460162Z",
     "start_time": "2020-05-29T04:57:14.447162Z"
    }
   },
   "outputs": [
    {
     "data": {
      "text/plain": [
       "(833, 15)"
      ]
     },
     "execution_count": 215,
     "metadata": {},
     "output_type": "execute_result"
    }
   ],
   "source": [
    "df_personas_beme.shape"
   ]
  },
  {
   "cell_type": "code",
   "execution_count": 216,
   "metadata": {
    "ExecuteTime": {
     "end_time": "2020-05-29T04:57:14.749172Z",
     "start_time": "2020-05-29T04:57:14.649169Z"
    }
   },
   "outputs": [],
   "source": [
    "df_personas_beme[\"cargo\"] = df_personas_beme[\"cargo\"].replace(\"EC Aut\", \"EC\")\n",
    "df_personas_beme[\"cargo\"] = df_personas_beme[\"cargo\"].replace(\"EC\", \"EJECUTIVO_COMERCIAL\")\n",
    "df_personas_beme[\"cargo\"] = df_personas_beme[\"cargo\"].replace(\"AC\", \"ASISTENTE_COMERCIAL\")"
   ]
  },
  {
   "cell_type": "code",
   "execution_count": 217,
   "metadata": {
    "ExecuteTime": {
     "end_time": "2020-05-29T04:57:14.868178Z",
     "start_time": "2020-05-29T04:57:14.862179Z"
    }
   },
   "outputs": [
    {
     "name": "stdout",
     "output_type": "stream",
     "text": [
      "esta V_REGION_CORDILLERA\n",
      "esta IV_REGION\n",
      "esta II_REGION\n",
      "esta VI_REGION\n",
      "esta III_REGION\n",
      "esta I_REGION\n",
      "esta XV_REGION\n",
      "esta V_REGION_COSTA\n",
      "esta METROPOLITANA_CENTRO\n",
      "esta METROPOLITANA_NORTE\n",
      "esta METROPOLITANA_ORIENTE\n",
      "esta METROPOLITANA_PONIENTE\n",
      "esta METROPOLITANA_SUR\n",
      "esta XIV_REGION\n",
      "esta VIII_REGION_CORDILLERA\n",
      "esta XI_REGION\n",
      "esta X_REGION\n",
      "esta VII_REGION\n",
      "esta BIOBIO_NORTE\n",
      "esta BIOBIO_SUR\n",
      "esta XII_REGION\n",
      "esta IX_REGION_NORTE\n",
      "esta IX_REGION_SUR\n"
     ]
    }
   ],
   "source": [
    "for cada_modulo in df_personas_beme.modulo.unique():\n",
    "    if cada_modulo in [MODULO for (MODULO, modulo) in MODULOS_NORTE+MODULOS_CENTRO+MODULOS_SUR]:\n",
    "        print(\"esta\",cada_modulo)\n",
    "    else:\n",
    "        print(\"no esta\",cada_modulo)"
   ]
  },
  {
   "cell_type": "code",
   "execution_count": 218,
   "metadata": {
    "ExecuteTime": {
     "end_time": "2020-05-29T04:57:15.292038Z",
     "start_time": "2020-05-29T04:57:15.231035Z"
    }
   },
   "outputs": [
    {
     "data": {
      "application/vnd.jupyter.widget-view+json": {
       "model_id": "114113ecd2cd48fa89bd303c3bfb0caf",
       "version_major": 2,
       "version_minor": 0
      }
     },
     "metadata": {},
     "output_type": "display_data"
    }
   ],
   "source": [
    "crea_rangos(df_personas_beme)"
   ]
  },
  {
   "cell_type": "code",
   "execution_count": 219,
   "metadata": {
    "ExecuteTime": {
     "end_time": "2020-05-29T04:57:15.534049Z",
     "start_time": "2020-05-29T04:57:15.524048Z"
    }
   },
   "outputs": [],
   "source": [
    "df_personas_beme = df_personas_beme.drop_duplicates(subset=\"codigo\").reset_index(drop = True)"
   ]
  },
  {
   "cell_type": "code",
   "execution_count": 220,
   "metadata": {
    "ExecuteTime": {
     "end_time": "2020-05-29T04:57:15.846546Z",
     "start_time": "2020-05-29T04:57:15.842573Z"
    }
   },
   "outputs": [],
   "source": [
    "df_personas_beme = df_personas_beme[df_personas_beme[\"codigo\"] != 'Sin Cod']"
   ]
  },
  {
   "cell_type": "code",
   "execution_count": 221,
   "metadata": {
    "ExecuteTime": {
     "end_time": "2020-05-29T04:57:16.290565Z",
     "start_time": "2020-05-29T04:57:16.226563Z"
    }
   },
   "outputs": [
    {
     "data": {
      "application/vnd.jupyter.widget-view+json": {
       "model_id": "5fad4bd877a24cb89b125ef7dc8e1221",
       "version_major": 2,
       "version_minor": 0
      }
     },
     "metadata": {},
     "output_type": "display_data"
    }
   ],
   "source": [
    "crea_rangos(df_personas_beme)"
   ]
  },
  {
   "cell_type": "code",
   "execution_count": 222,
   "metadata": {
    "ExecuteTime": {
     "end_time": "2020-05-29T04:57:16.477573Z",
     "start_time": "2020-05-29T04:57:16.473575Z"
    }
   },
   "outputs": [],
   "source": [
    "df_personas_beme = df_personas_beme[[\"zona\", \"modulo\", \"codigo\", \"nombre\", \"cargo\", \"codigo_sucursal\", \"sucursal\", \"trabaja_hoy\"]]"
   ]
  },
  {
   "cell_type": "code",
   "execution_count": 223,
   "metadata": {
    "ExecuteTime": {
     "end_time": "2020-05-29T04:57:17.298139Z",
     "start_time": "2020-05-29T04:57:17.210134Z"
    }
   },
   "outputs": [],
   "source": [
    "df_personas_beme.dropna(inplace = True)"
   ]
  },
  {
   "cell_type": "code",
   "execution_count": 224,
   "metadata": {
    "ExecuteTime": {
     "end_time": "2020-05-29T04:57:17.633153Z",
     "start_time": "2020-05-29T04:57:17.461145Z"
    }
   },
   "outputs": [
    {
     "data": {
      "application/vnd.jupyter.widget-view+json": {
       "model_id": "59d72b81ba2044f6ab3e20558a9c06aa",
       "version_major": 2,
       "version_minor": 0
      }
     },
     "metadata": {},
     "output_type": "display_data"
    }
   ],
   "source": [
    "df_personas_beme"
   ]
  },
  {
   "cell_type": "code",
   "execution_count": 225,
   "metadata": {
    "ExecuteTime": {
     "end_time": "2020-05-29T04:57:18.893299Z",
     "start_time": "2020-05-29T04:57:18.633030Z"
    }
   },
   "outputs": [],
   "source": [
    "df_personas_beme.to_excel(\"personas_cleaned.xlsx\")"
   ]
  },
  {
   "cell_type": "code",
   "execution_count": 203,
   "metadata": {
    "ExecuteTime": {
     "end_time": "2020-05-29T03:49:27.112245Z",
     "start_time": "2020-05-29T03:49:27.108245Z"
    }
   },
   "outputs": [
    {
     "data": {
      "text/plain": [
       "(827, 8)"
      ]
     },
     "execution_count": 203,
     "metadata": {},
     "output_type": "execute_result"
    }
   ],
   "source": [
    "df_personas_beme.shape"
   ]
  },
  {
   "cell_type": "code",
   "execution_count": null,
   "metadata": {},
   "outputs": [],
   "source": []
  }
 ],
 "metadata": {
  "hide_input": false,
  "kernelspec": {
   "display_name": "Django Shell-Plus",
   "language": "python",
   "name": "django_extensions"
  },
  "language_info": {
   "codemirror_mode": {
    "name": "ipython",
    "version": 3
   },
   "file_extension": ".py",
   "mimetype": "text/x-python",
   "name": "python",
   "nbconvert_exporter": "python",
   "pygments_lexer": "ipython3",
   "version": "3.6.6"
  },
  "toc": {
   "base_numbering": 1,
   "nav_menu": {},
   "number_sections": false,
   "sideBar": false,
   "skip_h1_title": false,
   "title_cell": "Table of Contents",
   "title_sidebar": "Contents",
   "toc_cell": false,
   "toc_position": {},
   "toc_section_display": false,
   "toc_window_display": false
  },
  "varInspector": {
   "cols": {
    "lenName": 16,
    "lenType": 16,
    "lenVar": 40
   },
   "kernels_config": {
    "python": {
     "delete_cmd_postfix": "",
     "delete_cmd_prefix": "del ",
     "library": "var_list.py",
     "varRefreshCmd": "print(var_dic_list())"
    },
    "r": {
     "delete_cmd_postfix": ") ",
     "delete_cmd_prefix": "rm(",
     "library": "var_list.r",
     "varRefreshCmd": "cat(var_dic_list()) "
    }
   },
   "types_to_exclude": [
    "module",
    "function",
    "builtin_function_or_method",
    "instance",
    "_Feature"
   ],
   "window_display": false
  }
 },
 "nbformat": 4,
 "nbformat_minor": 2
}
