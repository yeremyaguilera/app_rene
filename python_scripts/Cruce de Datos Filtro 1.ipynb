{
 "cells": [
  {
   "cell_type": "code",
   "execution_count": null,
   "metadata": {
    "ExecuteTime": {
     "end_time": "2020-05-29T15:36:56.149016Z",
     "start_time": "2020-05-29T15:36:53.782545Z"
    }
   },
   "outputs": [],
   "source": [
    "import pandas as pd\n",
    "pd.set_option('display.max_rows', 500)\n",
    "pd.set_option('display.max_columns', 500)\n",
    "pd.set_option('display.width', 1000)\n",
    "import os\n",
    "import missingno\n",
    "os.environ[\"DJANGO_ALLOW_ASYNC_UNSAFE\"] = \"true\""
   ]
  },
  {
   "cell_type": "code",
   "execution_count": null,
   "metadata": {
    "ExecuteTime": {
     "end_time": "2020-05-29T15:36:56.276021Z",
     "start_time": "2020-05-29T15:36:56.152016Z"
    }
   },
   "outputs": [],
   "source": [
    "df_sucursales = pd.read_excel(\"sucursales_cleaned.xlsx\")\n",
    "df_sucursales.rename(columns={\"cod_sucursal\": \"codigo_sucursal\"}, inplace = True)\n",
    "df_sucursales = df_sucursales[[\"codigo_sucursal\", \"estado\"]]"
   ]
  },
  {
   "cell_type": "code",
   "execution_count": null,
   "metadata": {
    "ExecuteTime": {
     "end_time": "2020-05-29T15:36:56.308023Z",
     "start_time": "2020-05-29T15:36:56.277021Z"
    }
   },
   "outputs": [],
   "source": [
    "df_sucursales.head(1)"
   ]
  },
  {
   "cell_type": "code",
   "execution_count": null,
   "metadata": {
    "ExecuteTime": {
     "end_time": "2020-05-29T15:36:56.555033Z",
     "start_time": "2020-05-29T15:36:56.312023Z"
    }
   },
   "outputs": [],
   "source": [
    "df_personas_beme = pd.read_excel(\"personas_cleaned.xlsx\")\n",
    "df_personas_beme.rename(columns={\"codigo\": \"codigo_numerico\"}, inplace = True)\n",
    "df_personas_beme = df_personas_beme[[\"codigo_numerico\", \"cargo\", \"codigo_sucursal\", \"trabaja_hoy\"]]"
   ]
  },
  {
   "cell_type": "code",
   "execution_count": null,
   "metadata": {
    "ExecuteTime": {
     "end_time": "2020-05-29T15:36:56.570034Z",
     "start_time": "2020-05-29T15:36:56.560034Z"
    }
   },
   "outputs": [],
   "source": [
    "df_personas_beme.head(10)"
   ]
  },
  {
   "cell_type": "code",
   "execution_count": null,
   "metadata": {
    "ExecuteTime": {
     "end_time": "2020-05-29T15:36:56.735041Z",
     "start_time": "2020-05-29T15:36:56.572034Z"
    }
   },
   "outputs": [],
   "source": [
    "df_personas_beme.shape"
   ]
  },
  {
   "cell_type": "code",
   "execution_count": null,
   "metadata": {
    "ExecuteTime": {
     "end_time": "2020-05-29T15:36:56.930438Z",
     "start_time": "2020-05-29T15:36:56.737041Z"
    }
   },
   "outputs": [],
   "source": [
    "df_personas_beme[\"codigo_sucursal\"] = [str(x) for x in df_personas_beme[\"codigo_sucursal\"]]"
   ]
  },
  {
   "cell_type": "code",
   "execution_count": null,
   "metadata": {
    "ExecuteTime": {
     "end_time": "2020-05-29T15:36:57.035533Z",
     "start_time": "2020-05-29T15:36:56.932436Z"
    }
   },
   "outputs": [],
   "source": [
    "df_personas_beme_estado = pd.merge(df_personas_beme, df_sucursales, on='codigo_sucursal')"
   ]
  },
  {
   "cell_type": "code",
   "execution_count": null,
   "metadata": {
    "ExecuteTime": {
     "end_time": "2020-05-29T15:36:57.178041Z",
     "start_time": "2020-05-29T15:36:57.036520Z"
    }
   },
   "outputs": [],
   "source": [
    "df_personas_beme_estado.head(11)"
   ]
  },
  {
   "cell_type": "code",
   "execution_count": null,
   "metadata": {
    "ExecuteTime": {
     "end_time": "2020-05-29T15:36:57.310051Z",
     "start_time": "2020-05-29T15:36:57.180045Z"
    }
   },
   "outputs": [],
   "source": [
    "df_personas_beme_estado.shape"
   ]
  },
  {
   "cell_type": "code",
   "execution_count": null,
   "metadata": {
    "ExecuteTime": {
     "end_time": "2020-05-29T15:36:57.776645Z",
     "start_time": "2020-05-29T15:36:57.312050Z"
    }
   },
   "outputs": [],
   "source": [
    "missingno.matrix(df_personas_beme_estado)"
   ]
  },
  {
   "cell_type": "code",
   "execution_count": null,
   "metadata": {
    "ExecuteTime": {
     "end_time": "2020-05-29T15:36:57.965032Z",
     "start_time": "2020-05-29T15:36:57.778960Z"
    }
   },
   "outputs": [],
   "source": [
    "df_personas_codigo = pd.read_excel(\"Personas_BEME.xlsx\")\n",
    "df_personas_codigo.rename(columns = {\"COD EC\" : \"codigo_numerico\", \"Mail\" : \"email\"}, inplace = True)\n",
    "df_personas_codigo = df_personas_codigo[[\"codigo_numerico\", \"email\"]]\n",
    "df_personas_codigo.dropna(inplace =True)\n",
    "df_personas_codigo[\"codigo_numerico\"] = [int(x) for x in df_personas_codigo[\"codigo_numerico\"]]\n",
    "df_personas_codigo[\"codigo_persona_beme\"] = [x.split(\"@\")[0].lower() for x in df_personas_codigo[\"email\"]]\n",
    "df_personas_codigo.drop(\"email\", inplace = True, axis = 1)"
   ]
  },
  {
   "cell_type": "code",
   "execution_count": null,
   "metadata": {
    "ExecuteTime": {
     "end_time": "2020-05-29T15:36:57.976887Z",
     "start_time": "2020-05-29T15:36:57.965032Z"
    }
   },
   "outputs": [],
   "source": [
    "df_personas_codigo.head(1)"
   ]
  },
  {
   "cell_type": "code",
   "execution_count": null,
   "metadata": {
    "ExecuteTime": {
     "end_time": "2020-05-29T15:36:58.093892Z",
     "start_time": "2020-05-29T15:36:57.978887Z"
    }
   },
   "outputs": [],
   "source": [
    "df_personas_beme_estado_codigo = pd.merge(df_personas_beme_estado, df_personas_codigo, on='codigo_numerico')"
   ]
  },
  {
   "cell_type": "code",
   "execution_count": null,
   "metadata": {
    "ExecuteTime": {
     "end_time": "2020-05-29T15:36:58.545105Z",
     "start_time": "2020-05-29T15:36:58.095891Z"
    }
   },
   "outputs": [],
   "source": [
    "missingno.matrix(df_personas_beme_estado_codigo)"
   ]
  },
  {
   "cell_type": "code",
   "execution_count": null,
   "metadata": {
    "ExecuteTime": {
     "end_time": "2020-05-29T15:36:58.554384Z",
     "start_time": "2020-05-29T15:36:58.547386Z"
    }
   },
   "outputs": [],
   "source": [
    "df_personas_beme_estado_codigo.dropna(inplace = True)"
   ]
  },
  {
   "cell_type": "code",
   "execution_count": null,
   "metadata": {
    "ExecuteTime": {
     "end_time": "2020-05-29T15:36:58.661714Z",
     "start_time": "2020-05-29T15:36:58.556386Z"
    }
   },
   "outputs": [],
   "source": [
    "df_personas_beme_estado_codigo.shape"
   ]
  },
  {
   "cell_type": "code",
   "execution_count": null,
   "metadata": {
    "ExecuteTime": {
     "end_time": "2020-05-29T15:36:58.961869Z",
     "start_time": "2020-05-29T15:36:58.680713Z"
    }
   },
   "outputs": [],
   "source": [
    "df_clientes = pd.DataFrame(list(Cliente.objects.all().values()))"
   ]
  },
  {
   "cell_type": "code",
   "execution_count": null,
   "metadata": {
    "ExecuteTime": {
     "end_time": "2020-05-29T15:36:59.028881Z",
     "start_time": "2020-05-29T15:36:58.983879Z"
    }
   },
   "outputs": [],
   "source": [
    "df_clientes.head(1)"
   ]
  },
  {
   "cell_type": "code",
   "execution_count": null,
   "metadata": {
    "ExecuteTime": {
     "end_time": "2020-05-29T15:36:59.680012Z",
     "start_time": "2020-05-29T15:36:59.030881Z"
    },
    "scrolled": false
   },
   "outputs": [],
   "source": [
    "missingno.matrix(df_clientes)"
   ]
  },
  {
   "cell_type": "code",
   "execution_count": null,
   "metadata": {
    "ExecuteTime": {
     "end_time": "2020-05-29T15:52:15.051050Z",
     "start_time": "2020-05-29T15:51:36.838576Z"
    },
    "scrolled": true
   },
   "outputs": [],
   "source": [
    "limite = 50\n",
    "for nombre_grupo, clientes_sucursal in df_clientes.groupby([\"zona_cli\", \"modulo_cli\", \"sucursal_cli\"]):\n",
    "    print(\"SUCURSAL\", nombre_grupo)\n",
    "    total_clientes = len(clientes_sucursal)\n",
    "    n_clients_preparobados = len(clientes_sucursal[clientes_sucursal[\"preaprobados_reng\"] == True])\n",
    "    print(\"La sucursal tiene\", total_clientes, \"clientes\")\n",
    "    print(\"La sucursal tiene\", n_clients_preparobados, \"preaprobados\")\n",
    "    n_clients_sin_gestor = len(clientes_sucursal[clientes_sucursal[\"gestor_id\"].isin([None])])\n",
    "    print(\"La sucursal tiene\", n_clients_sin_gestor, \"clientes sin gestor\")\n",
    "    \n",
    "    for indice_cliente, cada_cliente in clientes_sucursal.iterrows():\n",
    "        #print(\"el cliente tiene preaprobado\")\n",
    "        #¿El ejecutivo esta en la base de datos?\n",
    "        if cada_cliente[\"ejecutivo_cartera_id\"] in df_personas_beme_estado_codigo[\"codigo_persona_beme\"].tolist():\n",
    "            #Si esta\n",
    "            #El ejecutivo trabaja hoy?\n",
    "            estado_ejecutivo = df_personas_beme_estado_codigo[df_personas_beme_estado_codigo[\"codigo_persona_beme\"] == cada_cliente[\"ejecutivo_cartera_id\"]][\"trabaja_hoy\"].values[0]\n",
    "            if estado_ejecutivo == \"SI\":\n",
    "                #SI TRABAJA\n",
    "                #tiene menos del limite de asignados?\n",
    "                if len(df_clientes[df_clientes[\"gestor_id\"] == cada_cliente[\"ejecutivo_cartera_id\"]]) < limite:\n",
    "                    df_clientes.loc[indice_cliente, \"gestor_id\"] = cada_cliente[\"ejecutivo_cartera_id\"]\n",
    "                else:\n",
    "                    #supera el limite de carga\n",
    "                    continue\n",
    "            #print(\"Se le asigno como gestor el ejecutivo de su cartera\")\n",
    "            else:\n",
    "                #NO TRABAJA\n",
    "                #hay mas ejecutivos en su sucursal?\n",
    "                codigo_sucursal_ejecutivo = df_personas_beme_estado_codigo[df_personas_beme_estado_codigo[\"codigo_persona_beme\"] == cada_cliente[\"ejecutivo_cartera_id\"]][\"codigo_sucursal\"].values[0]\n",
    "                personas_en_sucursal   = df_personas_beme_estado_codigo[df_personas_beme_estado_codigo[\"codigo_sucursal\"] == codigo_sucursal_ejecutivo]\n",
    "                asistentes_en_sucursal = personas_en_sucursal[personas_en_sucursal[\"cargo\"] == \"ASISTENTE_COMERCIAL\"] \n",
    "                ejecutivos_en_sucursal = personas_en_sucursal[(personas_en_sucursal[\"cargo\"] == \"EJECUTIVO_COMERCIAL\") & (personas_en_sucursal[\"codigo_persona_beme\"] != cada_cliente[\"ejecutivo_cartera_id\"])]\n",
    "                    \n",
    "                #Si hay \n",
    "                if len(ejecutivos_en_sucursal) > 0:\n",
    "                    #Para cada ejecutivo extra\n",
    "                    for index_ejecutivo, cada_ejecutivo_extra in ejecutivos_en_sucursal.iterrows():\n",
    "                        #esta trabajando hoy?\n",
    "                        if df_personas_beme_estado_codigo[df_personas_beme_estado_codigo[\"codigo_persona_beme\"] == cada_ejecutivo_extra[\"codigo_persona_beme\"]][\"trabaja_hoy\"].values[0] == \"SI\":\n",
    "                            #SI ESTA TRABAJANDO\n",
    "                            #tiene menos del limite de asignados?\n",
    "                            if len(df_clientes[df_clientes[\"gestor_id\"] == cada_ejecutivo_extra[\"codigo_persona_beme\"]]) < limite:\n",
    "                                #si, tiene menos del limite\n",
    "                                df_clientes.loc[indice_cliente, \"gestor_id\"] = cada_ejecutivo_extra[\"codigo_persona_beme\"]\n",
    "                                print(\"Se le asigno como gestor el ejecutivo de su sucursal\")\n",
    "                                break\n",
    "                            else:\n",
    "                                #supera el limite de carga\n",
    "                                continue\n",
    "                        else:\n",
    "                            #no esta trabajando hoy\n",
    "                            continue\n",
    "\n",
    "                else:\n",
    "                    #No hay ejecutivos\n",
    "                    #hay asistentes ?\n",
    "                    #primero ¿tiene preaprobado?\n",
    "                    if cada_cliente[\"preaprobados_reng\"] == True:\n",
    "                        #Tiene preaprobado\n",
    "                        #¿hay asistentes?\n",
    "                        if len(asistentes_en_sucursal) > 0:\n",
    "                            #Si hay\n",
    "                            for index_asistente, cada_asistente in asistentes_en_sucursal.iterrows():\n",
    "                                #esta trabajando hoy?\n",
    "                                if df_personas_beme_estado_codigo[df_personas_beme_estado_codigo[\"codigo_persona_beme\"] == cada_asistente[\"codigo_persona_beme\"]][\"trabaja_hoy\"].values[0] == \"SI\":\n",
    "                                    #si esta trabajando\n",
    "                                    #tiene menos del limite de asignados?\n",
    "                                    if len(df_clientes[df_clientes[\"gestor_id\"] == cada_asistente[\"codigo_persona_beme\"]]) < limite:\n",
    "                                        df_clientes.loc[indice_cliente, \"gestor_id\"] = cada_asistente[\"codigo_persona_beme\"]\n",
    "                                        print(\"Se le asigno como gestor el asistente de su sucursal\")\n",
    "                                        break\n",
    "                                    else:\n",
    "                                        #Supera el limite de carga\n",
    "                                        continue\n",
    "                                else:\n",
    "                                    #no esta trabajando hoy\n",
    "                                    continue\n",
    "                        else:\n",
    "                            #No hay asistentes\n",
    "                            continue\n",
    "                    else:\n",
    "                        #no tiene preaprobado\n",
    "                        continue\n",
    "        else:\n",
    "            #no esta en la base de datos \n",
    "            continue\n",
    "    \n",
    "    n_clients_sin_gestor = len(clientes_sucursal[clientes_sucursal[\"gestor_id\"].isin([None])])\n",
    "    print(\"La sucursal tiene\", n_clients_sin_gestor, \"clientes sin gestor\")\n",
    "    print(\"\")"
   ]
  },
  {
   "cell_type": "code",
   "execution_count": null,
   "metadata": {
    "ExecuteTime": {
     "end_time": "2020-05-29T15:52:18.121298Z",
     "start_time": "2020-05-29T15:52:17.269922Z"
    }
   },
   "outputs": [],
   "source": [
    "zona = []\n",
    "modulo = []\n",
    "sucursal = []\n",
    "\n",
    "total_clientes = []\n",
    "clientes_sin_gestor = []\n",
    "asistentes_asignados = []\n",
    "ejecutivos_asignados = []\n",
    "\n",
    "\n",
    "for nombre_grupo, clientes_sucursal in df_clientes.groupby([\"zona_cli\", \"modulo_cli\", \"sucursal_cli\"]):\n",
    "    \n",
    "    clientes_con_gestor = clientes_sucursal[~clientes_sucursal[\"gestor_id\"].isin([None])]\n",
    "    gestores = df_personas_beme_estado_codigo[df_personas_beme_estado_codigo[\"codigo_persona_beme\"].isin(clientes_con_gestor[\"gestor_id\"].tolist())]\n",
    "    \n",
    "    asistentes_gestores = gestores[gestores[\"cargo\"] == \"ASISTENTE_COMERCIAL\"]\n",
    "    ejecutivos_gestores = gestores[gestores[\"cargo\"] == \"EJECUTIVO_COMERCIAL\"]\n",
    "    \n",
    "    n_asistentes_gestores = len(asistentes_gestores)\n",
    "    n_ejecutivos_gestores = len(ejecutivos_gestores)\n",
    "    \n",
    "    \n",
    "    n_clients_sin_gestor = len(clientes_sucursal[clientes_sucursal[\"gestor_id\"].isin([None])])\n",
    "    total_clientes.append(len(clientes_sucursal))\n",
    "    print(\"La sucursal tiene\", n_clients_sin_gestor, \"clientes sin gestor\")\n",
    "    clientes_sin_gestor.append(n_clients_sin_gestor)\n",
    "    zona.append(nombre_grupo[0])\n",
    "    modulo.append(nombre_grupo[1])\n",
    "    sucursal.append(nombre_grupo[2])\n",
    "    asistentes_asignados.append(n_asistentes_gestores)\n",
    "    ejecutivos_asignados.append(n_ejecutivos_gestores)\n",
    "    \n",
    "df_resumen=pd.DataFrame({\"zona\": zona,\n",
    "                         \"modulo\" : modulo,\n",
    "                         \"sucursal\": sucursal,\n",
    "                         \"total_clientes\":total_clientes,\n",
    "                         \"clientes_sin_gestor\":clientes_sin_gestor,\n",
    "                         \"asistentes_asignados\": asistentes_asignados,\n",
    "                         \"ejecutivos_asignados\": ejecutivos_asignados})\n",
    "    "
   ]
  },
  {
   "cell_type": "code",
   "execution_count": null,
   "metadata": {
    "ExecuteTime": {
     "end_time": "2020-05-29T15:52:20.282388Z",
     "start_time": "2020-05-29T15:52:20.254239Z"
    }
   },
   "outputs": [],
   "source": [
    "df_resumen"
   ]
  },
  {
   "cell_type": "code",
   "execution_count": null,
   "metadata": {
    "ExecuteTime": {
     "end_time": "2020-05-29T15:52:22.537937Z",
     "start_time": "2020-05-29T15:52:22.522939Z"
    }
   },
   "outputs": [],
   "source": [
    "df_clientes[\"gestor_id\"].value_counts()"
   ]
  },
  {
   "cell_type": "code",
   "execution_count": null,
   "metadata": {
    "ExecuteTime": {
     "end_time": "2020-05-29T15:52:24.799774Z",
     "start_time": "2020-05-29T15:52:24.690310Z"
    }
   },
   "outputs": [],
   "source": [
    "df_resumen.to_excel(\"distribucion.xlsx\")"
   ]
  },
  {
   "cell_type": "code",
   "execution_count": null,
   "metadata": {},
   "outputs": [],
   "source": []
  }
 ],
 "metadata": {
  "hide_input": false,
  "kernelspec": {
   "display_name": "Django Shell-Plus",
   "language": "python",
   "name": "django_extensions"
  },
  "language_info": {
   "codemirror_mode": {
    "name": "ipython",
    "version": 3
   },
   "file_extension": ".py",
   "mimetype": "text/x-python",
   "name": "python",
   "nbconvert_exporter": "python",
   "pygments_lexer": "ipython3",
   "version": "3.6.6"
  },
  "toc": {
   "base_numbering": 1,
   "nav_menu": {},
   "number_sections": false,
   "sideBar": false,
   "skip_h1_title": false,
   "title_cell": "Table of Contents",
   "title_sidebar": "Contents",
   "toc_cell": false,
   "toc_position": {},
   "toc_section_display": false,
   "toc_window_display": false
  },
  "varInspector": {
   "cols": {
    "lenName": 16,
    "lenType": 16,
    "lenVar": 40
   },
   "kernels_config": {
    "python": {
     "delete_cmd_postfix": "",
     "delete_cmd_prefix": "del ",
     "library": "var_list.py",
     "varRefreshCmd": "print(var_dic_list())"
    },
    "r": {
     "delete_cmd_postfix": ") ",
     "delete_cmd_prefix": "rm(",
     "library": "var_list.r",
     "varRefreshCmd": "cat(var_dic_list()) "
    }
   },
   "types_to_exclude": [
    "module",
    "function",
    "builtin_function_or_method",
    "instance",
    "_Feature"
   ],
   "window_display": false
  }
 },
 "nbformat": 4,
 "nbformat_minor": 2
}
