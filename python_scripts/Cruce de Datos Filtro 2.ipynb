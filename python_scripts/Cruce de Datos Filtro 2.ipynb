{
 "cells": [
  {
   "cell_type": "code",
   "execution_count": null,
   "metadata": {
    "ExecuteTime": {
     "end_time": "2020-05-29T15:58:18.799820Z",
     "start_time": "2020-05-29T15:58:18.795803Z"
    }
   },
   "outputs": [],
   "source": [
    "import pandas as pd\n",
    "pd.set_option('display.max_rows', 500)\n",
    "pd.set_option('display.max_columns', 500)\n",
    "pd.set_option('display.width', 1000)\n",
    "import os\n",
    "import missingno\n",
    "os.environ[\"DJANGO_ALLOW_ASYNC_UNSAFE\"] = \"true\""
   ]
  },
  {
   "cell_type": "code",
   "execution_count": null,
   "metadata": {
    "ExecuteTime": {
     "end_time": "2020-05-29T15:58:19.694168Z",
     "start_time": "2020-05-29T15:58:19.638162Z"
    }
   },
   "outputs": [],
   "source": [
    "df_sucursales = pd.read_excel(\"sucursales_cleaned.xlsx\")\n",
    "df_sucursales.rename(columns={\"cod_sucursal\": \"codigo_sucursal\"}, inplace = True)\n",
    "df_sucursales = df_sucursales[[\"codigo_sucursal\", \"estado\"]]"
   ]
  },
  {
   "cell_type": "code",
   "execution_count": null,
   "metadata": {
    "ExecuteTime": {
     "end_time": "2020-05-29T15:58:20.493470Z",
     "start_time": "2020-05-29T15:58:20.481464Z"
    }
   },
   "outputs": [],
   "source": [
    "df_sucursales.head(1)"
   ]
  },
  {
   "cell_type": "code",
   "execution_count": null,
   "metadata": {
    "ExecuteTime": {
     "end_time": "2020-05-29T15:58:21.351721Z",
     "start_time": "2020-05-29T15:58:21.270666Z"
    }
   },
   "outputs": [],
   "source": [
    "df_personas_beme = pd.read_excel(\"personas_cleaned.xlsx\")\n",
    "df_personas_beme.rename(columns={\"codigo\": \"codigo_numerico\"}, inplace = True)\n",
    "df_personas_beme = df_personas_beme[[\"codigo_numerico\", \"cargo\", \"codigo_sucursal\", \"trabaja_hoy\"]]"
   ]
  },
  {
   "cell_type": "code",
   "execution_count": null,
   "metadata": {
    "ExecuteTime": {
     "end_time": "2020-05-29T15:58:22.100646Z",
     "start_time": "2020-05-29T15:58:22.090669Z"
    }
   },
   "outputs": [],
   "source": [
    "df_personas_beme.head(10)"
   ]
  },
  {
   "cell_type": "code",
   "execution_count": null,
   "metadata": {
    "ExecuteTime": {
     "end_time": "2020-05-29T15:58:22.843302Z",
     "start_time": "2020-05-29T15:58:22.836305Z"
    }
   },
   "outputs": [],
   "source": [
    "df_personas_beme.shape"
   ]
  },
  {
   "cell_type": "code",
   "execution_count": null,
   "metadata": {
    "ExecuteTime": {
     "end_time": "2020-05-29T15:58:23.660849Z",
     "start_time": "2020-05-29T15:58:23.578858Z"
    }
   },
   "outputs": [],
   "source": [
    "df_personas_beme[\"codigo_sucursal\"] = [str(x) for x in df_personas_beme[\"codigo_sucursal\"]]"
   ]
  },
  {
   "cell_type": "code",
   "execution_count": null,
   "metadata": {
    "ExecuteTime": {
     "end_time": "2020-05-29T15:58:24.454467Z",
     "start_time": "2020-05-29T15:58:24.447483Z"
    }
   },
   "outputs": [],
   "source": [
    "df_personas_beme_estado = pd.merge(df_personas_beme, df_sucursales, on='codigo_sucursal')"
   ]
  },
  {
   "cell_type": "code",
   "execution_count": null,
   "metadata": {
    "ExecuteTime": {
     "end_time": "2020-05-29T15:58:25.215670Z",
     "start_time": "2020-05-29T15:58:25.200642Z"
    }
   },
   "outputs": [],
   "source": [
    "df_personas_beme_estado.head(11)"
   ]
  },
  {
   "cell_type": "code",
   "execution_count": null,
   "metadata": {
    "ExecuteTime": {
     "end_time": "2020-05-29T15:58:25.960032Z",
     "start_time": "2020-05-29T15:58:25.957026Z"
    }
   },
   "outputs": [],
   "source": [
    "df_personas_beme_estado.shape"
   ]
  },
  {
   "cell_type": "code",
   "execution_count": null,
   "metadata": {
    "ExecuteTime": {
     "end_time": "2020-05-29T15:58:27.021715Z",
     "start_time": "2020-05-29T15:58:26.701410Z"
    }
   },
   "outputs": [],
   "source": [
    "missingno.matrix(df_personas_beme_estado)"
   ]
  },
  {
   "cell_type": "code",
   "execution_count": null,
   "metadata": {
    "ExecuteTime": {
     "end_time": "2020-05-29T15:58:27.918416Z",
     "start_time": "2020-05-29T15:58:27.735430Z"
    }
   },
   "outputs": [],
   "source": [
    "df_personas_codigo = pd.read_excel(\"Personas_BEME.xlsx\")\n",
    "df_personas_codigo.rename(columns = {\"COD EC\" : \"codigo_numerico\", \"Mail\" : \"email\"}, inplace = True)\n",
    "df_personas_codigo = df_personas_codigo[[\"codigo_numerico\", \"email\"]]\n",
    "df_personas_codigo.dropna(inplace =True)\n",
    "df_personas_codigo[\"codigo_numerico\"] = [int(x) for x in df_personas_codigo[\"codigo_numerico\"]]\n",
    "df_personas_codigo[\"codigo_persona_beme\"] = [x.split(\"@\")[0].lower() for x in df_personas_codigo[\"email\"]]\n",
    "df_personas_codigo.drop(\"email\", inplace = True, axis = 1)"
   ]
  },
  {
   "cell_type": "code",
   "execution_count": null,
   "metadata": {
    "ExecuteTime": {
     "end_time": "2020-05-29T15:58:28.644699Z",
     "start_time": "2020-05-29T15:58:28.634706Z"
    }
   },
   "outputs": [],
   "source": [
    "df_personas_codigo.head(1)"
   ]
  },
  {
   "cell_type": "code",
   "execution_count": null,
   "metadata": {
    "ExecuteTime": {
     "end_time": "2020-05-29T15:58:29.379253Z",
     "start_time": "2020-05-29T15:58:29.372276Z"
    }
   },
   "outputs": [],
   "source": [
    "df_personas_beme_estado_codigo = pd.merge(df_personas_beme_estado, df_personas_codigo, on='codigo_numerico')"
   ]
  },
  {
   "cell_type": "code",
   "execution_count": null,
   "metadata": {
    "ExecuteTime": {
     "end_time": "2020-05-29T15:58:30.625005Z",
     "start_time": "2020-05-29T15:58:30.162274Z"
    }
   },
   "outputs": [],
   "source": [
    "missingno.matrix(df_personas_beme_estado_codigo)"
   ]
  },
  {
   "cell_type": "code",
   "execution_count": null,
   "metadata": {
    "ExecuteTime": {
     "end_time": "2020-05-29T15:58:31.457678Z",
     "start_time": "2020-05-29T15:58:31.451688Z"
    }
   },
   "outputs": [],
   "source": [
    "df_personas_beme_estado_codigo.dropna(inplace = True)"
   ]
  },
  {
   "cell_type": "code",
   "execution_count": null,
   "metadata": {
    "ExecuteTime": {
     "end_time": "2020-05-29T15:58:32.194428Z",
     "start_time": "2020-05-29T15:58:32.184493Z"
    }
   },
   "outputs": [],
   "source": [
    "df_personas_beme_estado_codigo.shape"
   ]
  },
  {
   "cell_type": "code",
   "execution_count": null,
   "metadata": {
    "ExecuteTime": {
     "end_time": "2020-05-29T16:34:35.549217Z",
     "start_time": "2020-05-29T16:34:35.353002Z"
    }
   },
   "outputs": [],
   "source": [
    "df_clientes = pd.DataFrame(list(Cliente.objects.all().values()))"
   ]
  },
  {
   "cell_type": "code",
   "execution_count": null,
   "metadata": {
    "ExecuteTime": {
     "end_time": "2020-05-29T16:34:36.488923Z",
     "start_time": "2020-05-29T16:34:36.470840Z"
    }
   },
   "outputs": [],
   "source": [
    "df_clientes.head(1)"
   ]
  },
  {
   "cell_type": "code",
   "execution_count": null,
   "metadata": {
    "ExecuteTime": {
     "end_time": "2020-05-29T16:34:37.954205Z",
     "start_time": "2020-05-29T16:34:37.428109Z"
    },
    "scrolled": false
   },
   "outputs": [],
   "source": [
    "missingno.matrix(df_clientes)"
   ]
  },
  {
   "cell_type": "markdown",
   "metadata": {
    "ExecuteTime": {
     "end_time": "2020-05-29T16:12:11.279066Z",
     "start_time": "2020-05-29T16:12:11.273083Z"
    }
   },
   "source": [
    "df_clientes = df_clientes[df_clientes[\"modulo_cli\"] == \"METROPOLITANA_CENTRO\"]"
   ]
  },
  {
   "cell_type": "code",
   "execution_count": null,
   "metadata": {
    "ExecuteTime": {
     "end_time": "2020-05-29T16:35:32.355916Z",
     "start_time": "2020-05-29T16:34:38.824410Z"
    },
    "scrolled": true
   },
   "outputs": [],
   "source": [
    "limite = 50\n",
    "for nombre_grupo, clientes_sucursal in df_clientes.groupby([\"zona_cli\", \"modulo_cli\", \"sucursal_cli\"]):\n",
    "    print(\"SUCURSAL\", nombre_grupo)\n",
    "    total_clientes = len(clientes_sucursal)\n",
    "    n_clients_preparobados = len(clientes_sucursal[clientes_sucursal[\"preaprobados_reng\"] == True])\n",
    "    print(\"La sucursal tiene\", total_clientes, \"clientes\")\n",
    "    print(\"La sucursal tiene\", n_clients_preparobados, \"preaprobados\")\n",
    "    n_clients_sin_gestor = len(clientes_sucursal[clientes_sucursal[\"gestor_id\"].isin([None])])\n",
    "    print(\"La sucursal tiene\", n_clients_sin_gestor, \"clientes sin gestor\")\n",
    "    \n",
    "    for indice_cliente, cada_cliente in clientes_sucursal.iterrows():\n",
    "        #¿El ejecutivo esta en la base de datos?\n",
    "        if cada_cliente[\"ejecutivo_cartera_id\"] in df_personas_beme_estado_codigo[\"codigo_persona_beme\"].tolist():\n",
    "            print(\"el ejecutivo esta en la base\", cada_cliente[\"ejecutivo_cartera_id\"])\n",
    "            \n",
    "            #el cliente tiene preaprobado?\n",
    "            if cada_cliente[\"preaprobados_reng\"] == True:\n",
    "                print(\"cliente tiene preaprobado\")\n",
    "                #Si tiene\n",
    "                #hay asistentes en la misma sucursal del ejecutivo?\n",
    "                codigo_sucursal_ejecutivo = df_personas_beme_estado_codigo[df_personas_beme_estado_codigo[\"codigo_persona_beme\"] == cada_cliente[\"ejecutivo_cartera_id\"]][\"codigo_sucursal\"].values[0]\n",
    "                print(codigo_sucursal_ejecutivo)\n",
    "                personas_en_sucursal      = df_personas_beme_estado_codigo[df_personas_beme_estado_codigo[\"codigo_sucursal\"] == codigo_sucursal_ejecutivo]\n",
    "                asistentes_en_sucursal    = personas_en_sucursal[personas_en_sucursal[\"cargo\"] == \"ASISTENTE_COMERCIAL\"] \n",
    "\n",
    "                if len(asistentes_en_sucursal) > 0:\n",
    "                    print(\"si hay asistentes\")\n",
    "                    #Si hay\n",
    "                    #para cada asistente en la sucursal\n",
    "                    for indice_asistente, cada_asistente_en_sucursal in asistentes_en_sucursal.iterrows():\n",
    "                        #¿Esta trabajando hoy?\n",
    "                        estado_asistente = df_personas_beme_estado_codigo[df_personas_beme_estado_codigo[\"codigo_persona_beme\"] == cada_ejecutivo_extra[\"codigo_persona_beme\"]][\"trabaja_hoy\"].values[0]\n",
    "                        if estado_asistente == \"SI\":\n",
    "\n",
    "                            print(\"esta trabajando el asistente\", cada_asistente_en_sucursal[\"codigo_persona_beme\"])\n",
    "                            #Si esta`trabajando\n",
    "                            #Super el limite de carga?\n",
    "                            if len(df_clientes[df_clientes[\"gestor_id\"] == cada_asistente_en_sucursal[\"codigo_persona_beme\"]]) < limite:\n",
    "                                #No lo supera\n",
    "\n",
    "                                print(\"asistente no supera el limite de carga\")\n",
    "                                df_clientes.loc[indice_cliente, \"gestor_id\"] = cada_asistente_en_sucursal[\"codigo_persona_beme\"]\n",
    "                                print(\"Se le asigno como gestor el asistente de su sucursal\")\n",
    "                                break\n",
    "                            else:\n",
    "                                print(\"asistente supera el limite de carga\")\n",
    "                                #Supera el limite\n",
    "                                continue\n",
    "                        else:\n",
    "                            print(\"asistente no esta trabajando\")\n",
    "                            #No esta trabajando\n",
    "                            continue\n",
    "                    \n",
    "                    if df_clientes.loc[indice_cliente, \"gestor_id\"] == None:\n",
    "                        print(\"no hay asistentes para asignar\")\n",
    "                        #No hay asistentes\n",
    "                        #El ejecutivo trabaja hoy?\n",
    "                        estado_ejecutivo = df_personas_beme_estado_codigo[df_personas_beme_estado_codigo[\"codigo_persona_beme\"] == cada_cliente[\"ejecutivo_cartera_id\"]][\"trabaja_hoy\"].values[0]\n",
    "                        if estado_ejecutivo == \"SI\":\n",
    "\n",
    "                            print(\"el ejecutivo cartera si esta trabajando\")\n",
    "                            #SI TRABAJA\n",
    "                            #tiene menos del limite de asignados?\n",
    "                            if len(df_clientes[df_clientes[\"gestor_id\"] == cada_cliente[\"ejecutivo_cartera_id\"]]) < limite:\n",
    "                                print(\"no supera el limite\")\n",
    "                                df_clientes.loc[indice_cliente, \"gestor_id\"] = cada_cliente[\"ejecutivo_cartera_id\"]\n",
    "                            else:\n",
    "                                print(\"supera el limite\")\n",
    "                                #supera el limite de carga\n",
    "                                continue\n",
    "                        #print(\"Se le asigno como gestor el ejecutivo de su cartera\")\n",
    "                        else:\n",
    "                            print(\"el ejecutivo cartera no esta trabajando\")\n",
    "                            #NO TRABAJA\n",
    "                            #hay mas ejecutivos en su sucursal?\n",
    "                            codigo_sucursal_ejecutivo = df_personas_beme_estado_codigo[df_personas_beme_estado_codigo[\"codigo_persona_beme\"] == cada_cliente[\"ejecutivo_cartera_id\"]][\"codigo_sucursal\"].values[0]\n",
    "                            personas_en_sucursal   = df_personas_beme_estado_codigo[df_personas_beme_estado_codigo[\"codigo_sucursal\"] == codigo_sucursal_ejecutivo]\n",
    "                            ejecutivos_en_sucursal = personas_en_sucursal[(personas_en_sucursal[\"cargo\"] == \"EJECUTIVO_COMERCIAL\") & (personas_en_sucursal[\"codigo_persona_beme\"] != cada_cliente[\"ejecutivo_cartera_id\"])]\n",
    "\n",
    "                            #Si hay \n",
    "                            if len(ejecutivos_en_sucursal) > 0:\n",
    "                                print(\"hay mas ejecutivos\")\n",
    "                                #Para cada ejecutivo extra\n",
    "                                for index_ejecutivo, cada_ejecutivo_extra in ejecutivos_en_sucursal.iterrows():\n",
    "                                    #esta trabajando hoy?\n",
    "                                    if df_personas_beme_estado_codigo[df_personas_beme_estado_codigo[\"codigo_persona_beme\"] == cada_ejecutivo_extra[\"codigo_persona_beme\"]][\"trabaja_hoy\"].values[0] == \"SI\":\n",
    "                                        #SI ESTA TRABAJANDO\n",
    "                                        print(\"ejecutivo si esta trabajando\", cada_ejecutivo_extra[\"codigo_persona_beme\"])\n",
    "                                        #tiene menos del limite de asignados?\n",
    "                                        if len(df_clientes[df_clientes[\"gestor_id\"] == cada_ejecutivo_extra[\"codigo_persona_beme\"]]) < limite:\n",
    "                                            print(\"ejecutivo no supera el limite\")\n",
    "                                            #si, tiene menos del limite\n",
    "                                            df_clientes.loc[indice_cliente, \"gestor_id\"] = cada_ejecutivo_extra[\"codigo_persona_beme\"]\n",
    "                                            print(\"Se le asigno como gestor el ejecutivo de su sucursal\")\n",
    "                                            break\n",
    "                                        else:\n",
    "                                            print(\"ejecutivo supera el limite\")\n",
    "                                            #supera el limite de carga\n",
    "                                            continue\n",
    "                                    else:\n",
    "                                        print(\"ejecutivo no esta trabajando\")\n",
    "                                        #no esta trabajando hoy\n",
    "                                        continue\n",
    "                            else:\n",
    "                                print(\"no hay mas ejecutivos\")\n",
    "                                #no hay ejecutivos en la sucursal\n",
    "                                continue\n",
    "                else:\n",
    "                    print(\"no hay asistentes para asignar\")\n",
    "                    #No hay asistentes\n",
    "                    #El ejecutivo trabaja hoy?\n",
    "                    estado_ejecutivo = df_personas_beme_estado_codigo[df_personas_beme_estado_codigo[\"codigo_persona_beme\"] == cada_cliente[\"ejecutivo_cartera_id\"]][\"trabaja_hoy\"].values[0]\n",
    "                    if estado_ejecutivo == \"SI\":\n",
    "\n",
    "                        print(\"el ejecutivo cartera si esta trabajando\")\n",
    "                        #SI TRABAJA\n",
    "                        #tiene menos del limite de asignados?\n",
    "                        if len(df_clientes[df_clientes[\"gestor_id\"] == cada_cliente[\"ejecutivo_cartera_id\"]]) < limite:\n",
    "                            print(\"no supera el limite\")\n",
    "                            df_clientes.loc[indice_cliente, \"gestor_id\"] = cada_cliente[\"ejecutivo_cartera_id\"]\n",
    "                        else:\n",
    "                            print(\"supera el limite\")\n",
    "                            #supera el limite de carga\n",
    "                            continue\n",
    "                    #print(\"Se le asigno como gestor el ejecutivo de su cartera\")\n",
    "                    else:\n",
    "                        print(\"el ejecutivo cartera no esta trabajando\")\n",
    "                        #NO TRABAJA\n",
    "                        #hay mas ejecutivos en su sucursal?\n",
    "                        codigo_sucursal_ejecutivo = df_personas_beme_estado_codigo[df_personas_beme_estado_codigo[\"codigo_persona_beme\"] == cada_cliente[\"ejecutivo_cartera_id\"]][\"codigo_sucursal\"].values[0]\n",
    "                        personas_en_sucursal   = df_personas_beme_estado_codigo[df_personas_beme_estado_codigo[\"codigo_sucursal\"] == codigo_sucursal_ejecutivo]\n",
    "                        ejecutivos_en_sucursal = personas_en_sucursal[(personas_en_sucursal[\"cargo\"] == \"EJECUTIVO_COMERCIAL\") & (personas_en_sucursal[\"codigo_persona_beme\"] != cada_cliente[\"ejecutivo_cartera_id\"])]\n",
    "\n",
    "                        #Si hay \n",
    "                        if len(ejecutivos_en_sucursal) > 0:\n",
    "                            print(\"hay mas ejecutivos\")\n",
    "                            #Para cada ejecutivo extra\n",
    "                            for index_ejecutivo, cada_ejecutivo_extra in ejecutivos_en_sucursal.iterrows():\n",
    "                                #esta trabajando hoy?\n",
    "                                if df_personas_beme_estado_codigo[df_personas_beme_estado_codigo[\"codigo_persona_beme\"] == cada_ejecutivo_extra[\"codigo_persona_beme\"]][\"trabaja_hoy\"].values[0] == \"SI\":\n",
    "                                    #SI ESTA TRABAJANDO\n",
    "                                    print(\"ejecutivo si esta trabajando\", cada_ejecutivo_extra[\"codigo_persona_beme\"])\n",
    "                                    #tiene menos del limite de asignados?\n",
    "                                    if len(df_clientes[df_clientes[\"gestor_id\"] == cada_ejecutivo_extra[\"codigo_persona_beme\"]]) < limite:\n",
    "                                        print(\"ejecutivo no supera el limite\")\n",
    "                                        #si, tiene menos del limite\n",
    "                                        df_clientes.loc[indice_cliente, \"gestor_id\"] = cada_ejecutivo_extra[\"codigo_persona_beme\"]\n",
    "                                        print(\"Se le asigno como gestor el ejecutivo de su sucursal\")\n",
    "                                        break\n",
    "                                    else:\n",
    "                                        print(\"ejecutivo supera el limite\")\n",
    "                                        #supera el limite de carga\n",
    "                                        continue\n",
    "                                else:\n",
    "                                    print(\"ejecutivo no esta trabajando\")\n",
    "                                    #no esta trabajando hoy\n",
    "                                    continue\n",
    "                        else:\n",
    "                            print(\"no hay mas ejecutivos\")\n",
    "                            #no hay ejecutivos en la sucursal\n",
    "                            continue\n",
    "            else:\n",
    "                #No tiene preaprobado\n",
    "                continue\n",
    "                    \n",
    "        else:\n",
    "            #no esta en la base de datos \n",
    "            continue\n",
    "    \n",
    "    n_clients_sin_gestor = len(clientes_sucursal[clientes_sucursal[\"gestor_id\"].isin([None])])\n",
    "    print(\"La sucursal tiene\", n_clients_sin_gestor, \"clientes sin gestor\")\n",
    "    print(\"\")"
   ]
  },
  {
   "cell_type": "code",
   "execution_count": null,
   "metadata": {},
   "outputs": [],
   "source": []
  },
  {
   "cell_type": "code",
   "execution_count": null,
   "metadata": {
    "ExecuteTime": {
     "end_time": "2020-05-29T16:36:41.904389Z",
     "start_time": "2020-05-29T16:36:41.006265Z"
    }
   },
   "outputs": [],
   "source": [
    "zona = []\n",
    "modulo = []\n",
    "sucursal = []\n",
    "\n",
    "total_clientes = []\n",
    "clientes_sin_gestor = []\n",
    "asistentes_asignados = []\n",
    "ejecutivos_asignados = []\n",
    "\n",
    "\n",
    "for nombre_grupo, clientes_sucursal in df_clientes.groupby([\"zona_cli\", \"modulo_cli\", \"sucursal_cli\"]):\n",
    "    \n",
    "    clientes_con_gestor = clientes_sucursal[~clientes_sucursal[\"gestor_id\"].isin([None])]\n",
    "    gestores = df_personas_beme_estado_codigo[df_personas_beme_estado_codigo[\"codigo_persona_beme\"].isin(clientes_con_gestor[\"gestor_id\"].tolist())]\n",
    "    \n",
    "    asistentes_gestores = gestores[gestores[\"cargo\"] == \"ASISTENTE_COMERCIAL\"]\n",
    "    ejecutivos_gestores = gestores[gestores[\"cargo\"] == \"EJECUTIVO_COMERCIAL\"]\n",
    "    \n",
    "    n_asistentes_gestores = len(asistentes_gestores)\n",
    "    n_ejecutivos_gestores = len(ejecutivos_gestores)\n",
    "    \n",
    "    \n",
    "    n_clients_sin_gestor = len(clientes_sucursal[clientes_sucursal[\"gestor_id\"].isin([None])])\n",
    "    total_clientes.append(len(clientes_sucursal))\n",
    "    print(\"La sucursal tiene\", n_clients_sin_gestor, \"clientes sin gestor\")\n",
    "    clientes_sin_gestor.append(n_clients_sin_gestor)\n",
    "    zona.append(nombre_grupo[0])\n",
    "    modulo.append(nombre_grupo[1])\n",
    "    sucursal.append(nombre_grupo[2])\n",
    "    asistentes_asignados.append(n_asistentes_gestores)\n",
    "    ejecutivos_asignados.append(n_ejecutivos_gestores)\n",
    "    \n",
    "df_resumen=pd.DataFrame({\"zona\": zona,\n",
    "                         \"modulo\" : modulo,\n",
    "                         \"sucursal\": sucursal,\n",
    "                         \"total_clientes\":total_clientes,\n",
    "                         \"clientes_sin_gestor\":clientes_sin_gestor,\n",
    "                         \"asistentes_asignados\": asistentes_asignados,\n",
    "                         \"ejecutivos_asignados\": ejecutivos_asignados})\n",
    "    "
   ]
  },
  {
   "cell_type": "code",
   "execution_count": null,
   "metadata": {
    "ExecuteTime": {
     "end_time": "2020-05-29T16:36:44.703661Z",
     "start_time": "2020-05-29T16:36:44.676660Z"
    }
   },
   "outputs": [],
   "source": [
    "df_resumen"
   ]
  },
  {
   "cell_type": "code",
   "execution_count": null,
   "metadata": {
    "ExecuteTime": {
     "end_time": "2020-05-29T17:02:46.217027Z",
     "start_time": "2020-05-29T17:02:45.966935Z"
    }
   },
   "outputs": [],
   "source": [
    "df_clientes[\"gestor_id\"].value_counts().hist()"
   ]
  },
  {
   "cell_type": "code",
   "execution_count": null,
   "metadata": {
    "ExecuteTime": {
     "end_time": "2020-05-29T16:37:05.187314Z",
     "start_time": "2020-05-29T16:37:05.074088Z"
    }
   },
   "outputs": [],
   "source": [
    "df_resumen.to_excel(\"distribucion_filtro2.xlsx\")"
   ]
  },
  {
   "cell_type": "code",
   "execution_count": null,
   "metadata": {},
   "outputs": [],
   "source": []
  }
 ],
 "metadata": {
  "hide_input": false,
  "kernelspec": {
   "display_name": "Django Shell-Plus",
   "language": "python",
   "name": "django_extensions"
  },
  "language_info": {
   "codemirror_mode": {
    "name": "ipython",
    "version": 3
   },
   "file_extension": ".py",
   "mimetype": "text/x-python",
   "name": "python",
   "nbconvert_exporter": "python",
   "pygments_lexer": "ipython3",
   "version": "3.6.6"
  },
  "toc": {
   "base_numbering": 1,
   "nav_menu": {},
   "number_sections": false,
   "sideBar": false,
   "skip_h1_title": false,
   "title_cell": "Table of Contents",
   "title_sidebar": "Contents",
   "toc_cell": false,
   "toc_position": {},
   "toc_section_display": false,
   "toc_window_display": false
  },
  "varInspector": {
   "cols": {
    "lenName": 16,
    "lenType": 16,
    "lenVar": 40
   },
   "kernels_config": {
    "python": {
     "delete_cmd_postfix": "",
     "delete_cmd_prefix": "del ",
     "library": "var_list.py",
     "varRefreshCmd": "print(var_dic_list())"
    },
    "r": {
     "delete_cmd_postfix": ") ",
     "delete_cmd_prefix": "rm(",
     "library": "var_list.r",
     "varRefreshCmd": "cat(var_dic_list()) "
    }
   },
   "types_to_exclude": [
    "module",
    "function",
    "builtin_function_or_method",
    "instance",
    "_Feature"
   ],
   "window_display": false
  }
 },
 "nbformat": 4,
 "nbformat_minor": 2
}
